{
 "cells": [
  {
   "cell_type": "code",
   "execution_count": 7,
   "metadata": {},
   "outputs": [],
   "source": [
    "%matplotlib inline\n",
    "\n",
    "import numpy as np\n",
    "import matplotlib.pyplot as plt\n",
    "import pandas as pd"
   ]
  },
  {
   "cell_type": "markdown",
   "metadata": {},
   "source": [
    "# 麥當勞1+1 究竟省了多少錢？"
   ]
  },
  {
   "cell_type": "code",
   "execution_count": 29,
   "metadata": {},
   "outputs": [
    {
     "name": "stdout",
     "output_type": "stream",
     "text": [
      "歡迎來到麥當勞1+1，在紅區跟白區各選擇一項商品喔\n",
      "----------------------------------------\n",
      "紅區商品： \n",
      "法式芥末香雞堡\n",
      "美式辣味香雞堡\n",
      "四塊麥克雞\n",
      "薯條\n",
      "鬆餅\n",
      "BBQ嫩雞翅\n",
      "勁辣香雞翅\n",
      "聖代\n",
      "蘋果派\n",
      "----------------------------------------\n",
      "白區商品： \n",
      "經典熱美式\n",
      "熱紅茶\n",
      "可樂\n",
      "雪碧\n",
      "冰檸檬紅茶\n",
      "冰綠茶\n",
      "小杯玉米湯\n",
      "----------------------------------------\n",
      "請輸入在紅區選擇的品項： hi\n",
      "查無此項，請重新輸入！\n",
      "----------------------------------------\n",
      "請輸入在紅區選擇的品項： 鬆餅\n",
      "請輸入在白區選擇的品項： 可樂\n",
      "原價：77元\n",
      "幫你省了：27元\n"
     ]
    }
   ],
   "source": [
    "red = {\"法式芥末香雞堡\":39, \"美式辣味香雞堡\":39, \"四塊麥克雞\":49, \"薯條\":30\n",
    "       , \"鬆餅\":49, \"BBQ嫩雞翅\":42, \"勁辣香雞翅\":42, \"聖代\":30, \"蘋果派\":30}\n",
    "white = {\"經典熱美式\":33, \"熱紅茶\":33, \"可樂\":28, \"雪碧\":28, \"冰檸檬紅茶\":28, \"冰綠茶\":28, \"小杯玉米湯\":33}\n",
    "\n",
    "print(\"歡迎來到麥當勞1+1，在紅區跟白區各選擇一項商品喔\\n\" + \"-\"*40)\n",
    "print(\"紅區商品： \")\n",
    "for key in red.keys():\n",
    "    print('{}'.format(key))\n",
    "print(\"-\"*40 + \"\\n白區商品： \")\n",
    "for key in white.keys():\n",
    "    print('{}'.format(key))\n",
    "print(\"-\"*40)\n",
    "\n",
    "while True:\n",
    "    a = input(\"請輸入在紅區選擇的品項： \")\n",
    "    if a in red.keys():\n",
    "        b = input(\"請輸入在白區選擇的品項： \")\n",
    "        if b in white.keys():\n",
    "            price = red[a] + white[b]\n",
    "            print(\"原價：\" + str(price) + \"元\")\n",
    "            print(\"幫你省了：\" + str(price-50) + \"元\")\n",
    "            break\n",
    "        else:\n",
    "            print(\"查無此項，請重新輸入！\\n\" + \"-\"*40)\n",
    "    else:\n",
    "        print(\"查無此項，請重新輸入！\\n\" + \"-\"*40)\n",
    "    \n"
   ]
  },
  {
   "cell_type": "code",
   "execution_count": 35,
   "metadata": {},
   "outputs": [],
   "source": [
    "from ipywidgets import interact"
   ]
  },
  {
   "cell_type": "markdown",
   "metadata": {},
   "source": [
    "# 麥當勞1+1 究竟省了多少錢？pt.2"
   ]
  },
  {
   "cell_type": "code",
   "execution_count": 36,
   "metadata": {},
   "outputs": [],
   "source": [
    "def f1(red):\n",
    "    a = {\"法式芥末香雞堡\":39, \"美式辣味香雞堡\":39, \"四塊麥克雞\":49, \"薯條\":30\n",
    "           , \"鬆餅\":49, \"BBQ嫩雞翅\":42, \"勁辣香雞翅\":42, \"聖代\":30, \"蘋果派\":30}\n",
    "    if red in a.keys():\n",
    "        print(\"原價：\" + str(a[red]))\n",
    "def f2(white):\n",
    "    b = {\"經典熱美式\":33, \"熱紅茶\":33, \"可樂\":28, \"雪碧\":28, \"冰檸檬紅茶\":28, \"冰綠茶\":28, \"小杯玉米湯\":33}\n",
    "    if white in b.keys():\n",
    "        print(\"原價：\" + str(b[white]))"
   ]
  },
  {
   "cell_type": "code",
   "execution_count": 37,
   "metadata": {},
   "outputs": [
    {
     "name": "stdout",
     "output_type": "stream",
     "text": [
      "歡迎來到麥當勞1+1，在紅區跟白區各選擇一項商品喔\n",
      "----------------------------------------\n",
      "紅區商品： \n"
     ]
    },
    {
     "data": {
      "application/vnd.jupyter.widget-view+json": {
       "model_id": "22a2b23b04854e4eafdb799f06c3e40a",
       "version_major": 2,
       "version_minor": 0
      },
      "text/plain": [
       "interactive(children=(Dropdown(description='red', options=('法式芥末香雞堡', '美式辣味香雞堡', '四塊麥克雞', '薯條', '鬆餅', 'BBQ嫩雞翅'…"
      ]
     },
     "metadata": {},
     "output_type": "display_data"
    },
    {
     "name": "stdout",
     "output_type": "stream",
     "text": [
      "----------------------------------------\n",
      "白區商品： \n"
     ]
    },
    {
     "data": {
      "application/vnd.jupyter.widget-view+json": {
       "model_id": "59edc9881cbc49beb357c904b52c10fe",
       "version_major": 2,
       "version_minor": 0
      },
      "text/plain": [
       "interactive(children=(Dropdown(description='white', options=('經典熱美式', '熱紅茶', '可樂', '雪碧', '冰檸檬紅茶', '冰綠茶', '小杯玉米…"
      ]
     },
     "metadata": {},
     "output_type": "display_data"
    },
    {
     "name": "stdout",
     "output_type": "stream",
     "text": [
      "----------------------------------------\n"
     ]
    }
   ],
   "source": [
    "red = {\"法式芥末香雞堡\":39, \"美式辣味香雞堡\":39, \"四塊麥克雞\":49, \"薯條\":30\n",
    "       , \"鬆餅\":49, \"BBQ嫩雞翅\":42, \"勁辣香雞翅\":42, \"聖代\":30, \"蘋果派\":30}\n",
    "white = {\"經典熱美式\":33, \"熱紅茶\":33, \"可樂\":28, \"雪碧\":28, \"冰檸檬紅茶\":28, \"冰綠茶\":28, \"小杯玉米湯\":33}\n",
    "\n",
    "print(\"歡迎來到麥當勞1+1，在紅區跟白區各選擇一項商品喔\\n\" + \"-\"*40)\n",
    "print(\"紅區商品： \")\n",
    "interact(f1, red = [\"法式芥末香雞堡\", \"美式辣味香雞堡\", \"四塊麥克雞\", \"薯條\"\n",
    "           , \"鬆餅\", \"BBQ嫩雞翅\", \"勁辣香雞翅\", \"聖代\", \"蘋果派\"])\n",
    "print(\"-\"*40 + \"\\n白區商品： \")\n",
    "interact(f2, white = [\"經典熱美式\", \"熱紅茶\", \"可樂\", \"雪碧\", \"冰檸檬紅茶\", \"冰綠茶\", \"小杯玉米湯\"])\n",
    "print(\"-\"*40)"
   ]
  },
  {
   "cell_type": "markdown",
   "metadata": {},
   "source": [
    "# 星星金字塔"
   ]
  },
  {
   "cell_type": "code",
   "execution_count": 1,
   "metadata": {},
   "outputs": [
    {
     "name": "stdout",
     "output_type": "stream",
     "text": [
      "請輸入行數5\n",
      "    *\n",
      "   ***\n",
      "  *****\n",
      " *******\n",
      "*********\n"
     ]
    }
   ],
   "source": [
    "s = \"*\"\n",
    "b = \" \"\n",
    "row = input(\"請輸入行數\")\n",
    "if row.isdecimal():\n",
    "    n = int(row)\n",
    "    for i in range(n):\n",
    "        print(b*(n-1-i) + s*(2*i+1))\n",
    "else:\n",
    "    print(\"error\")"
   ]
  },
  {
   "cell_type": "markdown",
   "metadata": {},
   "source": [
    "# 四則運算"
   ]
  },
  {
   "cell_type": "code",
   "execution_count": 2,
   "metadata": {},
   "outputs": [
    {
     "name": "stdout",
     "output_type": "stream",
     "text": [
      "-----運算方法功能選單-----\n",
      "0:離開程式, 1:加法, 2:減法, 3:乘法, 4:除法\n",
      "請輸入0~4: 2\n",
      "請輸入數值a與b\n",
      "a = 4\n",
      "b = 5\n",
      "a - b =  -1\n",
      "-----運算方法功能選單-----\n",
      "0:離開程式, 1:加法, 2:減法, 3:乘法, 4:除法\n",
      "請輸入0~4: 4\n",
      "請輸入數值a與b\n",
      "a = 8\n",
      "b = 2\n",
      "a // b =  4\n",
      "-----運算方法功能選單-----\n",
      "0:離開程式, 1:加法, 2:減法, 3:乘法, 4:除法\n",
      "請輸入0~4: 0\n",
      "離開程式\n"
     ]
    }
   ],
   "source": [
    "def subtract(x1, x2):\n",
    "    return x1 - x2   \n",
    "def addition(x1, x2):\n",
    "    return x1 + x2       \n",
    "def multiply(x1, x2):\n",
    "    return x1 * x2\n",
    "def divided(x1, x2):\n",
    "    return x1 // x2\n",
    "\n",
    "while True:\n",
    "    print(\"-----運算方法功能選單-----\")\n",
    "    print(\"0:離開程式, 1:加法, 2:減法, 3:乘法, 4:除法\")\n",
    "    op = int(input(\"請輸入0~4: \"))\n",
    "    if op in range(5):\n",
    "        if op == 0:\n",
    "            print(\"離開程式\")\n",
    "            break\n",
    "        else:\n",
    "            print(\"請輸入數值a與b\")\n",
    "            a = int(input(\"a = \"))\n",
    "            b = int(input(\"b = \"))\n",
    "            if op == 1:\n",
    "                print(\"a + b = \", addition(a, b))\n",
    "            elif op == 2:\n",
    "                print(\"a - b = \", subtract(a, b))\n",
    "            elif op == 3:\n",
    "                print(\"a * b = \", multiply(a, b))   \n",
    "            elif op == 4:\n",
    "                print(\"a // b = \", divided(a, b)) \n",
    "            else:\n",
    "                print(\"運算方法輸入錯誤\")\n",
    "    else:\n",
    "        print(\"運算方法輸入錯誤\")"
   ]
  },
  {
   "cell_type": "code",
   "execution_count": null,
   "metadata": {},
   "outputs": [],
   "source": []
  }
 ],
 "metadata": {
  "kernelspec": {
   "display_name": "Python 3",
   "language": "python",
   "name": "python3"
  },
  "language_info": {
   "codemirror_mode": {
    "name": "ipython",
    "version": 3
   },
   "file_extension": ".py",
   "mimetype": "text/x-python",
   "name": "python",
   "nbconvert_exporter": "python",
   "pygments_lexer": "ipython3",
   "version": "3.7.1"
  }
 },
 "nbformat": 4,
 "nbformat_minor": 2
}
