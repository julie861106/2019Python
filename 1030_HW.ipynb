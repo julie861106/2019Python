{
 "cells": [
  {
   "cell_type": "code",
   "execution_count": 43,
   "metadata": {},
   "outputs": [],
   "source": [
    "%matplotlib inline\n",
    "\n",
    "import numpy as np\n",
    "import matplotlib.pyplot as plt\n",
    "import pandas as pd"
   ]
  },
  {
   "cell_type": "markdown",
   "metadata": {},
   "source": [
    "# 歷年來台旅客統計\n",
    "* [資料](https://quality.data.gov.tw/dq_download_csv.php?nid=7322&md5_url=75b640397916e1d9ed2e308abbc0eb7b)"
   ]
  },
  {
   "cell_type": "code",
   "execution_count": 44,
   "metadata": {},
   "outputs": [],
   "source": [
    "df = pd.read_csv('travel.csv', encoding = 'big5')"
   ]
  },
  {
   "cell_type": "code",
   "execution_count": 57,
   "metadata": {},
   "outputs": [
    {
     "data": {
      "text/html": [
       "<div>\n",
       "<style scoped>\n",
       "    .dataframe tbody tr th:only-of-type {\n",
       "        vertical-align: middle;\n",
       "    }\n",
       "\n",
       "    .dataframe tbody tr th {\n",
       "        vertical-align: top;\n",
       "    }\n",
       "\n",
       "    .dataframe thead th {\n",
       "        text-align: right;\n",
       "    }\n",
       "</style>\n",
       "<table border=\"1\" class=\"dataframe\">\n",
       "  <thead>\n",
       "    <tr style=\"text-align: right;\">\n",
       "      <th></th>\n",
       "      <th>年別</th>\n",
       "      <th>總計人數</th>\n",
       "      <th>總計成長率</th>\n",
       "      <th>總計指數</th>\n",
       "      <th>外籍旅客人數</th>\n",
       "      <th>外籍旅客成長率</th>\n",
       "      <th>外籍旅客占總計百分比</th>\n",
       "      <th>華僑旅客人數</th>\n",
       "      <th>華僑旅客成長率</th>\n",
       "      <th>華僑旅客占總計百分比</th>\n",
       "    </tr>\n",
       "  </thead>\n",
       "  <tbody>\n",
       "    <tr>\n",
       "      <td>0</td>\n",
       "      <td>1956</td>\n",
       "      <td>14974</td>\n",
       "      <td>-</td>\n",
       "      <td>0.81</td>\n",
       "      <td>11734</td>\n",
       "      <td>-</td>\n",
       "      <td>78.36</td>\n",
       "      <td>3240</td>\n",
       "      <td>-</td>\n",
       "      <td>21.64</td>\n",
       "    </tr>\n",
       "    <tr>\n",
       "      <td>1</td>\n",
       "      <td>1957</td>\n",
       "      <td>18159</td>\n",
       "      <td>21.27</td>\n",
       "      <td>0.98</td>\n",
       "      <td>14068</td>\n",
       "      <td>19.89</td>\n",
       "      <td>77.47</td>\n",
       "      <td>4091</td>\n",
       "      <td>26.27</td>\n",
       "      <td>22.53</td>\n",
       "    </tr>\n",
       "    <tr>\n",
       "      <td>2</td>\n",
       "      <td>1958</td>\n",
       "      <td>16709</td>\n",
       "      <td>-7.99</td>\n",
       "      <td>0.90</td>\n",
       "      <td>15557</td>\n",
       "      <td>10.58</td>\n",
       "      <td>93.11</td>\n",
       "      <td>1152</td>\n",
       "      <td>-71.84</td>\n",
       "      <td>6.89</td>\n",
       "    </tr>\n",
       "    <tr>\n",
       "      <td>3</td>\n",
       "      <td>1959</td>\n",
       "      <td>19328</td>\n",
       "      <td>15.67</td>\n",
       "      <td>1.04</td>\n",
       "      <td>17634</td>\n",
       "      <td>13.35</td>\n",
       "      <td>91.24</td>\n",
       "      <td>1694</td>\n",
       "      <td>47.05</td>\n",
       "      <td>8.76</td>\n",
       "    </tr>\n",
       "    <tr>\n",
       "      <td>4</td>\n",
       "      <td>1960</td>\n",
       "      <td>23636</td>\n",
       "      <td>22.29</td>\n",
       "      <td>1.27</td>\n",
       "      <td>20796</td>\n",
       "      <td>17.93</td>\n",
       "      <td>87.98</td>\n",
       "      <td>2840</td>\n",
       "      <td>67.65</td>\n",
       "      <td>12.02</td>\n",
       "    </tr>\n",
       "  </tbody>\n",
       "</table>\n",
       "</div>"
      ],
      "text/plain": [
       "     年別   總計人數   總計成長率  總計指數  外籍旅客人數 外籍旅客成長率  外籍旅客占總計百分比  華僑旅客人數 華僑旅客成長率  \\\n",
       "0  1956  14974       -  0.81   11734       -       78.36    3240       -   \n",
       "1  1957  18159  21.27   0.98   14068   19.89       77.47    4091   26.27   \n",
       "2  1958  16709  -7.99   0.90   15557   10.58       93.11    1152  -71.84   \n",
       "3  1959  19328  15.67   1.04   17634   13.35       91.24    1694   47.05   \n",
       "4  1960  23636  22.29   1.27   20796   17.93       87.98    2840   67.65   \n",
       "\n",
       "   華僑旅客占總計百分比  \n",
       "0       21.64  \n",
       "1       22.53  \n",
       "2        6.89  \n",
       "3        8.76  \n",
       "4       12.02  "
      ]
     },
     "execution_count": 57,
     "metadata": {},
     "output_type": "execute_result"
    }
   ],
   "source": [
    "df.head()"
   ]
  },
  {
   "cell_type": "code",
   "execution_count": 58,
   "metadata": {},
   "outputs": [
    {
     "data": {
      "text/html": [
       "<div>\n",
       "<style scoped>\n",
       "    .dataframe tbody tr th:only-of-type {\n",
       "        vertical-align: middle;\n",
       "    }\n",
       "\n",
       "    .dataframe tbody tr th {\n",
       "        vertical-align: top;\n",
       "    }\n",
       "\n",
       "    .dataframe thead th {\n",
       "        text-align: right;\n",
       "    }\n",
       "</style>\n",
       "<table border=\"1\" class=\"dataframe\">\n",
       "  <thead>\n",
       "    <tr style=\"text-align: right;\">\n",
       "      <th></th>\n",
       "      <th>年別</th>\n",
       "      <th>總計人數</th>\n",
       "      <th>總計成長率</th>\n",
       "      <th>總計指數</th>\n",
       "      <th>外籍旅客人數</th>\n",
       "      <th>外籍旅客成長率</th>\n",
       "      <th>外籍旅客占總計百分比</th>\n",
       "      <th>華僑旅客人數</th>\n",
       "      <th>華僑旅客成長率</th>\n",
       "      <th>華僑旅客占總計百分比</th>\n",
       "    </tr>\n",
       "  </thead>\n",
       "  <tbody>\n",
       "    <tr>\n",
       "      <td>58</td>\n",
       "      <td>2014</td>\n",
       "      <td>9910204</td>\n",
       "      <td>23.63</td>\n",
       "      <td>534.39</td>\n",
       "      <td>4687048</td>\n",
       "      <td>14.44</td>\n",
       "      <td>47.30</td>\n",
       "      <td>5223156</td>\n",
       "      <td>33.22</td>\n",
       "      <td>52.70</td>\n",
       "    </tr>\n",
       "    <tr>\n",
       "      <td>59</td>\n",
       "      <td>2015</td>\n",
       "      <td>10439785</td>\n",
       "      <td>5.34</td>\n",
       "      <td>562.94</td>\n",
       "      <td>4883047</td>\n",
       "      <td>4.18</td>\n",
       "      <td>46.77</td>\n",
       "      <td>5556738</td>\n",
       "      <td>6.39</td>\n",
       "      <td>53.23</td>\n",
       "    </tr>\n",
       "    <tr>\n",
       "      <td>60</td>\n",
       "      <td>2016</td>\n",
       "      <td>10690279</td>\n",
       "      <td>2.40</td>\n",
       "      <td>576.45</td>\n",
       "      <td>5703020</td>\n",
       "      <td>16.79</td>\n",
       "      <td>53.35</td>\n",
       "      <td>4987259</td>\n",
       "      <td>-10.25</td>\n",
       "      <td>46.65</td>\n",
       "    </tr>\n",
       "    <tr>\n",
       "      <td>61</td>\n",
       "      <td>2017</td>\n",
       "      <td>10739601</td>\n",
       "      <td>0.46</td>\n",
       "      <td>579.11</td>\n",
       "      <td>6452938</td>\n",
       "      <td>13.15</td>\n",
       "      <td>60.09</td>\n",
       "      <td>4286663</td>\n",
       "      <td>-14.05</td>\n",
       "      <td>39.91</td>\n",
       "    </tr>\n",
       "    <tr>\n",
       "      <td>62</td>\n",
       "      <td>2018</td>\n",
       "      <td>11066707</td>\n",
       "      <td>0.03</td>\n",
       "      <td>596.75</td>\n",
       "      <td>6845815</td>\n",
       "      <td>0.06</td>\n",
       "      <td>61.86</td>\n",
       "      <td>4220892</td>\n",
       "      <td>-0.02</td>\n",
       "      <td>38.14</td>\n",
       "    </tr>\n",
       "  </tbody>\n",
       "</table>\n",
       "</div>"
      ],
      "text/plain": [
       "      年別      總計人數   總計成長率    總計指數   外籍旅客人數 外籍旅客成長率  外籍旅客占總計百分比   華僑旅客人數  \\\n",
       "58  2014   9910204  23.63   534.39  4687048   14.44       47.30  5223156   \n",
       "59  2015  10439785   5.34   562.94  4883047    4.18       46.77  5556738   \n",
       "60  2016  10690279   2.40   576.45  5703020   16.79       53.35  4987259   \n",
       "61  2017  10739601   0.46   579.11  6452938   13.15       60.09  4286663   \n",
       "62  2018  11066707   0.03   596.75  6845815    0.06       61.86  4220892   \n",
       "\n",
       "   華僑旅客成長率  華僑旅客占總計百分比  \n",
       "58   33.22       52.70  \n",
       "59    6.39       53.23  \n",
       "60  -10.25       46.65  \n",
       "61  -14.05       39.91  \n",
       "62   -0.02       38.14  "
      ]
     },
     "execution_count": 58,
     "metadata": {},
     "output_type": "execute_result"
    }
   ],
   "source": [
    "df.tail()"
   ]
  },
  {
   "cell_type": "code",
   "execution_count": 46,
   "metadata": {},
   "outputs": [
    {
     "name": "stdout",
     "output_type": "stream",
     "text": [
      "<class 'pandas.core.frame.DataFrame'>\n",
      "RangeIndex: 63 entries, 0 to 62\n",
      "Data columns (total 10 columns):\n",
      "年別            63 non-null int64\n",
      "總計人數          63 non-null int64\n",
      "總計成長率         63 non-null object\n",
      "總計指數          63 non-null float64\n",
      "外籍旅客人數        63 non-null int64\n",
      "外籍旅客成長率       63 non-null object\n",
      "外籍旅客占總計百分比    63 non-null float64\n",
      "華僑旅客人數        63 non-null int64\n",
      "華僑旅客成長率       63 non-null object\n",
      "華僑旅客占總計百分比    63 non-null float64\n",
      "dtypes: float64(3), int64(4), object(3)\n",
      "memory usage: 5.0+ KB\n"
     ]
    }
   ],
   "source": [
    "df.info()"
   ]
  },
  {
   "cell_type": "markdown",
   "metadata": {},
   "source": [
    "### 歷年來台旅客人數"
   ]
  },
  {
   "cell_type": "code",
   "execution_count": 67,
   "metadata": {},
   "outputs": [
    {
     "data": {
      "image/png": "[encoded data removed]",
      "text/plain": [
       "<Figure size 432x288 with 1 Axes>"
      ]
     },
     "metadata": {
      "needs_background": "light"
     },
     "output_type": "display_data"
    }
   ],
   "source": [
    "x1 = df.總計人數\n",
    "x2 = df.外籍旅客人數\n",
    "x3 = df.華僑旅客人數\n",
    "plt.plot(x1, label='Total')\n",
    "plt.plot(x2, label='Foreigner')\n",
    "plt.plot(x3, label='Overseas Chinese')\n",
    "plt.legend()\n",
    "plt.show()"
   ]
  },
  {
   "cell_type": "markdown",
   "metadata": {},
   "source": [
    "### 外籍旅客占比大於華僑旅客占比之年度"
   ]
  },
  {
   "cell_type": "code",
   "execution_count": 71,
   "metadata": {},
   "outputs": [
    {
     "data": {
      "text/html": [
       "<div>\n",
       "<style scoped>\n",
       "    .dataframe tbody tr th:only-of-type {\n",
       "        vertical-align: middle;\n",
       "    }\n",
       "\n",
       "    .dataframe tbody tr th {\n",
       "        vertical-align: top;\n",
       "    }\n",
       "\n",
       "    .dataframe thead th {\n",
       "        text-align: right;\n",
       "    }\n",
       "</style>\n",
       "<table border=\"1\" class=\"dataframe\">\n",
       "  <thead>\n",
       "    <tr style=\"text-align: right;\">\n",
       "      <th></th>\n",
       "      <th>年別</th>\n",
       "      <th>總計人數</th>\n",
       "      <th>總計成長率</th>\n",
       "      <th>總計指數</th>\n",
       "      <th>外籍旅客人數</th>\n",
       "      <th>外籍旅客成長率</th>\n",
       "      <th>外籍旅客占總計百分比</th>\n",
       "      <th>華僑旅客人數</th>\n",
       "      <th>華僑旅客成長率</th>\n",
       "      <th>華僑旅客占總計百分比</th>\n",
       "    </tr>\n",
       "  </thead>\n",
       "  <tbody>\n",
       "    <tr>\n",
       "      <td>58</td>\n",
       "      <td>2014</td>\n",
       "      <td>9910204</td>\n",
       "      <td>23.63</td>\n",
       "      <td>534.39</td>\n",
       "      <td>4687048</td>\n",
       "      <td>14.44</td>\n",
       "      <td>47.30</td>\n",
       "      <td>5223156</td>\n",
       "      <td>33.22</td>\n",
       "      <td>52.70</td>\n",
       "    </tr>\n",
       "    <tr>\n",
       "      <td>59</td>\n",
       "      <td>2015</td>\n",
       "      <td>10439785</td>\n",
       "      <td>5.34</td>\n",
       "      <td>562.94</td>\n",
       "      <td>4883047</td>\n",
       "      <td>4.18</td>\n",
       "      <td>46.77</td>\n",
       "      <td>5556738</td>\n",
       "      <td>6.39</td>\n",
       "      <td>53.23</td>\n",
       "    </tr>\n",
       "  </tbody>\n",
       "</table>\n",
       "</div>"
      ],
      "text/plain": [
       "      年別      總計人數   總計成長率    總計指數   外籍旅客人數 外籍旅客成長率  外籍旅客占總計百分比   華僑旅客人數  \\\n",
       "58  2014   9910204  23.63   534.39  4687048   14.44       47.30  5223156   \n",
       "59  2015  10439785   5.34   562.94  4883047    4.18       46.77  5556738   \n",
       "\n",
       "   華僑旅客成長率  華僑旅客占總計百分比  \n",
       "58   33.22       52.70  \n",
       "59    6.39       53.23  "
      ]
     },
     "execution_count": 71,
     "metadata": {},
     "output_type": "execute_result"
    }
   ],
   "source": [
    "df[(df.外籍旅客占總計百分比 < df.華僑旅客占總計百分比)]"
   ]
  },
  {
   "cell_type": "markdown",
   "metadata": {},
   "source": [
    "### 外籍旅客與華僑旅客人數差距百分比"
   ]
  },
  {
   "cell_type": "code",
   "execution_count": 74,
   "metadata": {},
   "outputs": [],
   "source": [
    "df[\"人數差距百分比\"] = (df.外籍旅客人數 - df.華僑旅客人數)/df.總計人數"
   ]
  },
  {
   "cell_type": "code",
   "execution_count": 75,
   "metadata": {},
   "outputs": [
    {
     "data": {
      "text/html": [
       "<div>\n",
       "<style scoped>\n",
       "    .dataframe tbody tr th:only-of-type {\n",
       "        vertical-align: middle;\n",
       "    }\n",
       "\n",
       "    .dataframe tbody tr th {\n",
       "        vertical-align: top;\n",
       "    }\n",
       "\n",
       "    .dataframe thead th {\n",
       "        text-align: right;\n",
       "    }\n",
       "</style>\n",
       "<table border=\"1\" class=\"dataframe\">\n",
       "  <thead>\n",
       "    <tr style=\"text-align: right;\">\n",
       "      <th></th>\n",
       "      <th>年別</th>\n",
       "      <th>總計人數</th>\n",
       "      <th>總計成長率</th>\n",
       "      <th>總計指數</th>\n",
       "      <th>外籍旅客人數</th>\n",
       "      <th>外籍旅客成長率</th>\n",
       "      <th>外籍旅客占總計百分比</th>\n",
       "      <th>華僑旅客人數</th>\n",
       "      <th>華僑旅客成長率</th>\n",
       "      <th>華僑旅客占總計百分比</th>\n",
       "      <th>人數差距百分比</th>\n",
       "    </tr>\n",
       "  </thead>\n",
       "  <tbody>\n",
       "    <tr>\n",
       "      <td>0</td>\n",
       "      <td>1956</td>\n",
       "      <td>14974</td>\n",
       "      <td>-</td>\n",
       "      <td>0.81</td>\n",
       "      <td>11734</td>\n",
       "      <td>-</td>\n",
       "      <td>78.36</td>\n",
       "      <td>3240</td>\n",
       "      <td>-</td>\n",
       "      <td>21.64</td>\n",
       "      <td>0.567250</td>\n",
       "    </tr>\n",
       "    <tr>\n",
       "      <td>1</td>\n",
       "      <td>1957</td>\n",
       "      <td>18159</td>\n",
       "      <td>21.27</td>\n",
       "      <td>0.98</td>\n",
       "      <td>14068</td>\n",
       "      <td>19.89</td>\n",
       "      <td>77.47</td>\n",
       "      <td>4091</td>\n",
       "      <td>26.27</td>\n",
       "      <td>22.53</td>\n",
       "      <td>0.549425</td>\n",
       "    </tr>\n",
       "    <tr>\n",
       "      <td>2</td>\n",
       "      <td>1958</td>\n",
       "      <td>16709</td>\n",
       "      <td>-7.99</td>\n",
       "      <td>0.90</td>\n",
       "      <td>15557</td>\n",
       "      <td>10.58</td>\n",
       "      <td>93.11</td>\n",
       "      <td>1152</td>\n",
       "      <td>-71.84</td>\n",
       "      <td>6.89</td>\n",
       "      <td>0.862110</td>\n",
       "    </tr>\n",
       "    <tr>\n",
       "      <td>3</td>\n",
       "      <td>1959</td>\n",
       "      <td>19328</td>\n",
       "      <td>15.67</td>\n",
       "      <td>1.04</td>\n",
       "      <td>17634</td>\n",
       "      <td>13.35</td>\n",
       "      <td>91.24</td>\n",
       "      <td>1694</td>\n",
       "      <td>47.05</td>\n",
       "      <td>8.76</td>\n",
       "      <td>0.824710</td>\n",
       "    </tr>\n",
       "    <tr>\n",
       "      <td>4</td>\n",
       "      <td>1960</td>\n",
       "      <td>23636</td>\n",
       "      <td>22.29</td>\n",
       "      <td>1.27</td>\n",
       "      <td>20796</td>\n",
       "      <td>17.93</td>\n",
       "      <td>87.98</td>\n",
       "      <td>2840</td>\n",
       "      <td>67.65</td>\n",
       "      <td>12.02</td>\n",
       "      <td>0.759689</td>\n",
       "    </tr>\n",
       "  </tbody>\n",
       "</table>\n",
       "</div>"
      ],
      "text/plain": [
       "     年別   總計人數   總計成長率  總計指數  外籍旅客人數 外籍旅客成長率  外籍旅客占總計百分比  華僑旅客人數 華僑旅客成長率  \\\n",
       "0  1956  14974       -  0.81   11734       -       78.36    3240       -   \n",
       "1  1957  18159  21.27   0.98   14068   19.89       77.47    4091   26.27   \n",
       "2  1958  16709  -7.99   0.90   15557   10.58       93.11    1152  -71.84   \n",
       "3  1959  19328  15.67   1.04   17634   13.35       91.24    1694   47.05   \n",
       "4  1960  23636  22.29   1.27   20796   17.93       87.98    2840   67.65   \n",
       "\n",
       "   華僑旅客占總計百分比   人數差距百分比  \n",
       "0       21.64  0.567250  \n",
       "1       22.53  0.549425  \n",
       "2        6.89  0.862110  \n",
       "3        8.76  0.824710  \n",
       "4       12.02  0.759689  "
      ]
     },
     "execution_count": 75,
     "metadata": {},
     "output_type": "execute_result"
    }
   ],
   "source": [
    "df.head()"
   ]
  },
  {
   "cell_type": "code",
   "execution_count": 82,
   "metadata": {},
   "outputs": [
    {
     "data": {
      "text/plain": [
       "<matplotlib.axes._subplots.AxesSubplot at 0x113c10e80>"
      ]
     },
     "execution_count": 82,
     "metadata": {},
     "output_type": "execute_result"
    },
    {
     "data": {
      "image/png": "[encoded data removed]",
      "text/plain": [
       "<Figure size 432x288 with 1 Axes>"
      ]
     },
     "metadata": {
      "needs_background": "light"
     },
     "output_type": "display_data"
    }
   ],
   "source": [
    "df.人數差距百分比.plot()"
   ]
  },
  {
   "cell_type": "markdown",
   "metadata": {},
   "source": [
    "### 歷年來台人數分析"
   ]
  },
  {
   "cell_type": "code",
   "execution_count": 81,
   "metadata": {},
   "outputs": [
    {
     "data": {
      "text/plain": [
       "count    6.300000e+01\n",
       "mean     2.541287e+06\n",
       "std      2.920134e+06\n",
       "min      1.497400e+04\n",
       "25%      5.598940e+05\n",
       "50%      1.760948e+06\n",
       "75%      2.890688e+06\n",
       "max      1.106671e+07\n",
       "Name: 總計人數, dtype: float64"
      ]
     },
     "execution_count": 81,
     "metadata": {},
     "output_type": "execute_result"
    }
   ],
   "source": [
    "df.總計人數.describe()"
   ]
  },
  {
   "cell_type": "code",
   "execution_count": 79,
   "metadata": {},
   "outputs": [
    {
     "data": {
      "text/plain": [
       "count    6.300000e+01\n",
       "mean     1.742574e+06\n",
       "std      1.593487e+06\n",
       "min      1.173400e+04\n",
       "25%      4.831425e+05\n",
       "50%      1.510972e+06\n",
       "75%      2.332344e+06\n",
       "max      6.845815e+06\n",
       "Name: 外籍旅客人數, dtype: float64"
      ]
     },
     "execution_count": 79,
     "metadata": {},
     "output_type": "execute_result"
    }
   ],
   "source": [
    "df.外籍旅客人數.describe()"
   ]
  },
  {
   "cell_type": "code",
   "execution_count": 80,
   "metadata": {},
   "outputs": [
    {
     "data": {
      "text/plain": [
       "count    6.300000e+01\n",
       "mean     7.987133e+05\n",
       "std      1.424419e+06\n",
       "min      1.152000e+03\n",
       "25%      7.675150e+04\n",
       "50%      2.562160e+05\n",
       "75%      5.306045e+05\n",
       "max      5.556738e+06\n",
       "Name: 華僑旅客人數, dtype: float64"
      ]
     },
     "execution_count": 80,
     "metadata": {},
     "output_type": "execute_result"
    }
   ],
   "source": [
    "df.華僑旅客人數.describe()"
   ]
  },
  {
   "cell_type": "code",
   "execution_count": null,
   "metadata": {},
   "outputs": [],
   "source": []
  }
 ],
 "metadata": {
  "kernelspec": {
   "display_name": "Python 3",
   "language": "python",
   "name": "python3"
  },
  "language_info": {
   "codemirror_mode": {
    "name": "ipython",
    "version": 3
   },
   "file_extension": ".py",
   "mimetype": "text/x-python",
   "name": "python",
   "nbconvert_exporter": "python",
   "pygments_lexer": "ipython3",
   "version": "3.7.1"
  }
 },
 "nbformat": 4,
 "nbformat_minor": 2
}
