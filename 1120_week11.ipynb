{
 "cells": [
  {
   "cell_type": "code",
   "execution_count": 1,
   "metadata": {},
   "outputs": [],
   "source": [
    "%matplotlib inline\n",
    "\n",
    "import numpy as np\n",
    "import matplotlib.pyplot as plt\n",
    "import pandas as pd"
   ]
  },
  {
   "cell_type": "markdown",
   "metadata": {},
   "source": [
    "# SVM分區學習 監督式學習\n",
    "## 模擬版資料做SVM"
   ]
  },
  {
   "cell_type": "code",
   "execution_count": 2,
   "metadata": {},
   "outputs": [],
   "source": [
    "x = np.array([[6, 6],[10, 8],[3, 7],[8, 7]])"
   ]
  },
  {
   "cell_type": "code",
   "execution_count": 3,
   "metadata": {},
   "outputs": [
    {
     "data": {
      "text/plain": [
       "array([[ 6,  6],\n",
       "       [10,  8],\n",
       "       [ 3,  7],\n",
       "       [ 8,  7]])"
      ]
     },
     "execution_count": 3,
     "metadata": {},
     "output_type": "execute_result"
    }
   ],
   "source": [
    "x"
   ]
  },
  {
   "cell_type": "markdown",
   "metadata": {},
   "source": [
    "4列 2行\n",
    "\n",
    "x[列,行]"
   ]
  },
  {
   "cell_type": "code",
   "execution_count": 4,
   "metadata": {},
   "outputs": [
    {
     "data": {
      "text/plain": [
       "array([ 6, 10,  3,  8])"
      ]
     },
     "execution_count": 4,
     "metadata": {},
     "output_type": "execute_result"
    }
   ],
   "source": [
    "x[:, 0]"
   ]
  },
  {
   "cell_type": "code",
   "execution_count": 5,
   "metadata": {},
   "outputs": [
    {
     "data": {
      "text/plain": [
       "<matplotlib.collections.PathCollection at 0x11b952b00>"
      ]
     },
     "execution_count": 5,
     "metadata": {},
     "output_type": "execute_result"
    },
    {
     "data": {
      "image/png": "[encoded data removed]",
      "text/plain": [
       "<Figure size 432x288 with 1 Axes>"
      ]
     },
     "metadata": {
      "needs_background": "light"
     },
     "output_type": "display_data"
    }
   ],
   "source": [
    "plt.scatter(x[:, 0], x[:, 1])"
   ]
  },
  {
   "cell_type": "markdown",
   "metadata": {},
   "source": [
    "[[6, 6],[10, 8],[3, 7],[8, 7]]\n",
    "\n",
    "第一類 第二類 第一類 第二類"
   ]
  },
  {
   "cell_type": "code",
   "execution_count": 6,
   "metadata": {},
   "outputs": [],
   "source": [
    "y = np.array([1, 2, 1, 2])"
   ]
  },
  {
   "cell_type": "markdown",
   "metadata": {},
   "source": [
    "顏色由y來決定"
   ]
  },
  {
   "cell_type": "code",
   "execution_count": 7,
   "metadata": {},
   "outputs": [
    {
     "data": {
      "text/plain": [
       "<matplotlib.collections.PathCollection at 0x11bad0128>"
      ]
     },
     "execution_count": 7,
     "metadata": {},
     "output_type": "execute_result"
    },
    {
     "data": {
      "image/png": "[encoded data removed]",
      "text/plain": [
       "<Figure size 432x288 with 1 Axes>"
      ]
     },
     "metadata": {
      "needs_background": "light"
     },
     "output_type": "display_data"
    }
   ],
   "source": [
    "plt.scatter(x[:, 0], x[:, 1], c = y)"
   ]
  },
  {
   "cell_type": "code",
   "execution_count": 8,
   "metadata": {},
   "outputs": [
    {
     "data": {
      "text/plain": [
       "<matplotlib.collections.PathCollection at 0x11bb47080>"
      ]
     },
     "execution_count": 8,
     "metadata": {},
     "output_type": "execute_result"
    },
    {
     "data": {
      "image/png": "[encoded data removed]",
      "text/plain": [
       "<Figure size 432x288 with 1 Axes>"
      ]
     },
     "metadata": {
      "needs_background": "light"
     },
     "output_type": "display_data"
    }
   ],
   "source": [
    "plt.scatter(x[:, 0], x[:, 1], c = y, cmap = \"Paired\", s=150)"
   ]
  },
  {
   "cell_type": "markdown",
   "metadata": {},
   "source": [
    "## Step01. 打開函數學習機"
   ]
  },
  {
   "cell_type": "code",
   "execution_count": 9,
   "metadata": {},
   "outputs": [],
   "source": [
    "from sklearn.svm import SVC"
   ]
  },
  {
   "cell_type": "markdown",
   "metadata": {},
   "source": [
    "gamma控制分類精確度"
   ]
  },
  {
   "cell_type": "code",
   "execution_count": 10,
   "metadata": {},
   "outputs": [],
   "source": [
    "clf = SVC(gamma = \"auto\")"
   ]
  },
  {
   "cell_type": "markdown",
   "metadata": {},
   "source": [
    "## Step02. 學習"
   ]
  },
  {
   "cell_type": "code",
   "execution_count": 11,
   "metadata": {},
   "outputs": [
    {
     "data": {
      "text/plain": [
       "SVC(C=1.0, cache_size=200, class_weight=None, coef0=0.0,\n",
       "    decision_function_shape='ovr', degree=3, gamma='auto', kernel='rbf',\n",
       "    max_iter=-1, probability=False, random_state=None, shrinking=True,\n",
       "    tol=0.001, verbose=False)"
      ]
     },
     "execution_count": 11,
     "metadata": {},
     "output_type": "execute_result"
    }
   ],
   "source": [
    "clf.fit(x, y)"
   ]
  },
  {
   "cell_type": "markdown",
   "metadata": {},
   "source": [
    "## Step03. 預測"
   ]
  },
  {
   "cell_type": "code",
   "execution_count": 12,
   "metadata": {},
   "outputs": [],
   "source": [
    "y_predict = clf.predict(x)"
   ]
  },
  {
   "cell_type": "code",
   "execution_count": 13,
   "metadata": {},
   "outputs": [
    {
     "data": {
      "text/plain": [
       "array([1, 2, 1, 2])"
      ]
     },
     "execution_count": 13,
     "metadata": {},
     "output_type": "execute_result"
    }
   ],
   "source": [
    "y_predict"
   ]
  },
  {
   "cell_type": "code",
   "execution_count": 14,
   "metadata": {},
   "outputs": [
    {
     "data": {
      "text/plain": [
       "array([1, 2, 1, 2])"
      ]
     },
     "execution_count": 14,
     "metadata": {},
     "output_type": "execute_result"
    }
   ],
   "source": [
    "y"
   ]
  },
  {
   "cell_type": "markdown",
   "metadata": {},
   "source": [
    "### 隨機生成資料測試"
   ]
  },
  {
   "cell_type": "code",
   "execution_count": 15,
   "metadata": {},
   "outputs": [],
   "source": [
    "xr = np.random.rand(100)"
   ]
  },
  {
   "cell_type": "code",
   "execution_count": 16,
   "metadata": {},
   "outputs": [
    {
     "data": {
      "text/plain": [
       "array([0.39246965, 0.47647867, 0.31412756, 0.60087258, 0.2644971 ,\n",
       "       0.9664676 , 0.10798096, 0.83657104, 0.01461814, 0.87822567,\n",
       "       0.70267878, 0.18720972, 0.54635956, 0.00268256, 0.34096428,\n",
       "       0.80942391, 0.12036372, 0.66463244, 0.20026003, 0.2019271 ,\n",
       "       0.17795135, 0.94255492, 0.10243947, 0.06576792, 0.80576457,\n",
       "       0.81511027, 0.0970806 , 0.15517849, 0.40996214, 0.25887549,\n",
       "       0.10677434, 0.74929024, 0.21882927, 0.7885399 , 0.82002346,\n",
       "       0.05854097, 0.22829128, 0.55770252, 0.79094294, 0.55402816,\n",
       "       0.82052492, 0.89031237, 0.58361067, 0.28614879, 0.49519086,\n",
       "       0.24451357, 0.42674916, 0.60107267, 0.56571945, 0.28100907,\n",
       "       0.7244912 , 0.84884417, 0.92546845, 0.17076473, 0.26718608,\n",
       "       0.9196696 , 0.10214722, 0.27019105, 0.87631328, 0.05015729,\n",
       "       0.88768047, 0.88036758, 0.40985694, 0.45756095, 0.74829704,\n",
       "       0.25151093, 0.63675318, 0.77720216, 0.265037  , 0.85146329,\n",
       "       0.88431716, 0.91716589, 0.99449559, 0.11056855, 0.73126085,\n",
       "       0.5020662 , 0.58375362, 0.26683096, 0.29096305, 0.56855412,\n",
       "       0.82372822, 0.89567771, 0.21852099, 0.74208883, 0.75407928,\n",
       "       0.70750096, 0.21528725, 0.89609093, 0.20680536, 0.33791512,\n",
       "       0.50121682, 0.52702434, 0.09125091, 0.10487871, 0.64784502,\n",
       "       0.97097562, 0.03125879, 0.18212553, 0.84360056, 0.55880391])"
      ]
     },
     "execution_count": 16,
     "metadata": {},
     "output_type": "execute_result"
    }
   ],
   "source": [
    "xr"
   ]
  },
  {
   "cell_type": "markdown",
   "metadata": {},
   "source": [
    "### 讓x變成3~10, y變成6~8"
   ]
  },
  {
   "cell_type": "code",
   "execution_count": 17,
   "metadata": {},
   "outputs": [],
   "source": [
    "xr = np.random.rand(100)*7+3\n",
    "yr = np.random.rand(100)*2+6"
   ]
  },
  {
   "cell_type": "code",
   "execution_count": 18,
   "metadata": {},
   "outputs": [
    {
     "data": {
      "text/plain": [
       "<matplotlib.collections.PathCollection at 0x12434f160>"
      ]
     },
     "execution_count": 18,
     "metadata": {},
     "output_type": "execute_result"
    },
    {
     "data": {
      "image/png": "[encoded data removed]",
      "text/plain": [
       "<Figure size 432x288 with 1 Axes>"
      ]
     },
     "metadata": {
      "needs_background": "light"
     },
     "output_type": "display_data"
    }
   ],
   "source": [
    "plt.scatter(xr, yr)\n",
    "plt.scatter(x[:, 0], x[:, 1], c = y, cmap = \"Paired\", s=150)"
   ]
  },
  {
   "cell_type": "code",
   "execution_count": 19,
   "metadata": {},
   "outputs": [
    {
     "name": "stdout",
     "output_type": "stream",
     "text": [
      "X [5.75256551 9.21470881 7.47998771 4.70493901 8.91112335]\n",
      "Y [6.19509267 7.96806563 6.81471275 7.67798708 7.04188173]\n"
     ]
    }
   ],
   "source": [
    "print(\"X\", xr[:5])\n",
    "print(\"Y\", yr[:5])"
   ]
  },
  {
   "cell_type": "markdown",
   "metadata": {},
   "source": [
    "### np.c_  把資料合起來"
   ]
  },
  {
   "cell_type": "code",
   "execution_count": 20,
   "metadata": {},
   "outputs": [
    {
     "data": {
      "text/plain": [
       "array([[5.75256551, 6.19509267],\n",
       "       [9.21470881, 7.96806563],\n",
       "       [7.47998771, 6.81471275],\n",
       "       [4.70493901, 7.67798708],\n",
       "       [8.91112335, 7.04188173],\n",
       "       [5.91655347, 6.73904599],\n",
       "       [8.40101789, 6.37318834],\n",
       "       [4.15775543, 6.78462959],\n",
       "       [3.43181466, 7.50878902],\n",
       "       [4.4288213 , 6.42994077],\n",
       "       [9.22056206, 7.30763464],\n",
       "       [9.8241915 , 6.26943874],\n",
       "       [3.14071536, 7.3634686 ],\n",
       "       [4.58733002, 7.86929009],\n",
       "       [9.80746105, 7.07168216],\n",
       "       [3.44855117, 6.88318248],\n",
       "       [7.89044482, 6.46491249],\n",
       "       [7.37097151, 6.39732362],\n",
       "       [4.19358498, 7.9118296 ],\n",
       "       [4.9211142 , 7.15227675],\n",
       "       [3.82525464, 6.23394912],\n",
       "       [5.04656024, 6.22762759],\n",
       "       [8.55006705, 6.38761855],\n",
       "       [9.86323199, 6.74966042],\n",
       "       [5.04298703, 7.59817836],\n",
       "       [9.03149348, 7.41034044],\n",
       "       [8.82536093, 6.39169446],\n",
       "       [5.75995361, 6.62938207],\n",
       "       [8.46202419, 7.18715314],\n",
       "       [3.2286698 , 6.167483  ],\n",
       "       [5.4561821 , 7.45183546],\n",
       "       [3.51178236, 7.78803788],\n",
       "       [5.0597579 , 6.36755476],\n",
       "       [6.316334  , 7.0212187 ],\n",
       "       [9.19708042, 6.08154236],\n",
       "       [8.93063339, 6.01383008],\n",
       "       [5.13895471, 6.58171354],\n",
       "       [4.63266438, 6.99939192],\n",
       "       [3.55034621, 7.11285873],\n",
       "       [8.99582325, 7.88916959],\n",
       "       [8.45475255, 7.11205009],\n",
       "       [7.30599465, 7.25433379],\n",
       "       [6.61452978, 7.54300532],\n",
       "       [5.0823878 , 6.73497188],\n",
       "       [6.65005705, 6.68759357],\n",
       "       [6.00169175, 7.27033547],\n",
       "       [9.27877352, 7.97389221],\n",
       "       [9.26515125, 7.41685839],\n",
       "       [3.40073928, 6.62441564],\n",
       "       [9.09931326, 7.65769716],\n",
       "       [4.26429177, 6.77807174],\n",
       "       [7.8740058 , 6.97016207],\n",
       "       [6.41472524, 6.17008001],\n",
       "       [8.05218822, 6.88307211],\n",
       "       [6.36145278, 7.79547603],\n",
       "       [8.77499679, 7.3120907 ],\n",
       "       [6.01778301, 6.91562143],\n",
       "       [4.99990735, 6.68666364],\n",
       "       [4.713532  , 7.84763415],\n",
       "       [4.38582323, 6.65032706],\n",
       "       [4.18837788, 7.76805097],\n",
       "       [3.5518482 , 6.4410664 ],\n",
       "       [7.93664926, 6.17844946],\n",
       "       [8.04109253, 7.25462152],\n",
       "       [5.81194691, 6.20960275],\n",
       "       [3.08575974, 6.810701  ],\n",
       "       [3.62030318, 6.66942662],\n",
       "       [8.37494255, 7.16725136],\n",
       "       [3.1123068 , 6.78379518],\n",
       "       [4.02178351, 6.81680477],\n",
       "       [3.46335727, 7.99701502],\n",
       "       [7.42385119, 7.84215596],\n",
       "       [5.23774049, 6.81696787],\n",
       "       [7.65063596, 7.96239517],\n",
       "       [3.57756865, 7.9952693 ],\n",
       "       [7.0125601 , 7.41154444],\n",
       "       [7.62237317, 7.07186445],\n",
       "       [6.1745783 , 6.20078234],\n",
       "       [5.72357446, 7.88709006],\n",
       "       [4.81691701, 6.42910295],\n",
       "       [7.07105259, 7.75181637],\n",
       "       [7.34405395, 7.86922718],\n",
       "       [5.81254609, 7.46430404],\n",
       "       [7.22124844, 7.69528811],\n",
       "       [8.42335917, 6.99228381],\n",
       "       [8.2403594 , 7.15983208],\n",
       "       [4.45796773, 7.8332058 ],\n",
       "       [5.202184  , 7.61811979],\n",
       "       [4.35940275, 6.62433288],\n",
       "       [7.64607487, 6.46826915],\n",
       "       [7.19082306, 6.73884872],\n",
       "       [7.00241857, 6.76788718],\n",
       "       [9.59573389, 7.86049575],\n",
       "       [4.73248117, 7.79369333],\n",
       "       [5.83821739, 7.63630099],\n",
       "       [6.6144866 , 7.02349688],\n",
       "       [7.8237614 , 6.30550703],\n",
       "       [3.77974102, 7.18251031],\n",
       "       [6.01626974, 7.03422852],\n",
       "       [8.23544863, 7.50076699]])"
      ]
     },
     "execution_count": 20,
     "metadata": {},
     "output_type": "execute_result"
    }
   ],
   "source": [
    "np.c_[xr, yr]"
   ]
  },
  {
   "cell_type": "code",
   "execution_count": 21,
   "metadata": {},
   "outputs": [],
   "source": [
    "X = np.c_[xr, yr]\n",
    "Y = clf.predict(X)"
   ]
  },
  {
   "cell_type": "code",
   "execution_count": 22,
   "metadata": {},
   "outputs": [
    {
     "data": {
      "text/plain": [
       "<matplotlib.collections.PathCollection at 0x12443f320>"
      ]
     },
     "execution_count": 22,
     "metadata": {},
     "output_type": "execute_result"
    },
    {
     "data": {
      "image/png": "[encoded data removed]",
      "text/plain": [
       "<Figure size 432x288 with 1 Axes>"
      ]
     },
     "metadata": {
      "needs_background": "light"
     },
     "output_type": "display_data"
    }
   ],
   "source": [
    "plt.scatter(x[:, 0], x[:, 1], c = y, cmap = \"Paired\", s=150)\n",
    "plt.scatter(X[:, 0], X[:, 1], c = Y, cmap = \"Paired\")"
   ]
  },
  {
   "cell_type": "markdown",
   "metadata": {},
   "source": [
    "## 結果呈現"
   ]
  },
  {
   "cell_type": "code",
   "execution_count": 23,
   "metadata": {},
   "outputs": [],
   "source": [
    "x_list = np.linspace(3, 10, 50)\n",
    "y_list = np.linspace(6, 8, 50)"
   ]
  },
  {
   "cell_type": "code",
   "execution_count": 24,
   "metadata": {},
   "outputs": [],
   "source": [
    "X = np.c_[x_list, y_list]"
   ]
  },
  {
   "cell_type": "code",
   "execution_count": 25,
   "metadata": {},
   "outputs": [
    {
     "data": {
      "text/plain": [
       "array([[ 3.        ,  6.        ],\n",
       "       [ 3.14285714,  6.04081633],\n",
       "       [ 3.28571429,  6.08163265],\n",
       "       [ 3.42857143,  6.12244898],\n",
       "       [ 3.57142857,  6.16326531],\n",
       "       [ 3.71428571,  6.20408163],\n",
       "       [ 3.85714286,  6.24489796],\n",
       "       [ 4.        ,  6.28571429],\n",
       "       [ 4.14285714,  6.32653061],\n",
       "       [ 4.28571429,  6.36734694],\n",
       "       [ 4.42857143,  6.40816327],\n",
       "       [ 4.57142857,  6.44897959],\n",
       "       [ 4.71428571,  6.48979592],\n",
       "       [ 4.85714286,  6.53061224],\n",
       "       [ 5.        ,  6.57142857],\n",
       "       [ 5.14285714,  6.6122449 ],\n",
       "       [ 5.28571429,  6.65306122],\n",
       "       [ 5.42857143,  6.69387755],\n",
       "       [ 5.57142857,  6.73469388],\n",
       "       [ 5.71428571,  6.7755102 ],\n",
       "       [ 5.85714286,  6.81632653],\n",
       "       [ 6.        ,  6.85714286],\n",
       "       [ 6.14285714,  6.89795918],\n",
       "       [ 6.28571429,  6.93877551],\n",
       "       [ 6.42857143,  6.97959184],\n",
       "       [ 6.57142857,  7.02040816],\n",
       "       [ 6.71428571,  7.06122449],\n",
       "       [ 6.85714286,  7.10204082],\n",
       "       [ 7.        ,  7.14285714],\n",
       "       [ 7.14285714,  7.18367347],\n",
       "       [ 7.28571429,  7.2244898 ],\n",
       "       [ 7.42857143,  7.26530612],\n",
       "       [ 7.57142857,  7.30612245],\n",
       "       [ 7.71428571,  7.34693878],\n",
       "       [ 7.85714286,  7.3877551 ],\n",
       "       [ 8.        ,  7.42857143],\n",
       "       [ 8.14285714,  7.46938776],\n",
       "       [ 8.28571429,  7.51020408],\n",
       "       [ 8.42857143,  7.55102041],\n",
       "       [ 8.57142857,  7.59183673],\n",
       "       [ 8.71428571,  7.63265306],\n",
       "       [ 8.85714286,  7.67346939],\n",
       "       [ 9.        ,  7.71428571],\n",
       "       [ 9.14285714,  7.75510204],\n",
       "       [ 9.28571429,  7.79591837],\n",
       "       [ 9.42857143,  7.83673469],\n",
       "       [ 9.57142857,  7.87755102],\n",
       "       [ 9.71428571,  7.91836735],\n",
       "       [ 9.85714286,  7.95918367],\n",
       "       [10.        ,  8.        ]])"
      ]
     },
     "execution_count": 25,
     "metadata": {},
     "output_type": "execute_result"
    }
   ],
   "source": [
    "X"
   ]
  },
  {
   "cell_type": "code",
   "execution_count": 26,
   "metadata": {},
   "outputs": [
    {
     "data": {
      "text/plain": [
       "<matplotlib.collections.PathCollection at 0x12449f0f0>"
      ]
     },
     "execution_count": 26,
     "metadata": {},
     "output_type": "execute_result"
    },
    {
     "data": {
      "image/png": "[encoded data removed]",
      "text/plain": [
       "<Figure size 432x288 with 1 Axes>"
      ]
     },
     "metadata": {
      "needs_background": "light"
     },
     "output_type": "display_data"
    }
   ],
   "source": [
    "plt.scatter(X[:, 0], X[:, 1])"
   ]
  },
  {
   "cell_type": "markdown",
   "metadata": {},
   "source": [
    "### meshgrid產生格點"
   ]
  },
  {
   "cell_type": "code",
   "execution_count": 27,
   "metadata": {},
   "outputs": [],
   "source": [
    "x_list = np.linspace(3, 10, 50)\n",
    "y_list = np.linspace(6, 8, 50)\n",
    "X, Y = np.meshgrid(x_list, y_list)"
   ]
  },
  {
   "cell_type": "markdown",
   "metadata": {},
   "source": [
    "X = [[第0列的x座標],[第1列的x座標]...]"
   ]
  },
  {
   "cell_type": "code",
   "execution_count": 28,
   "metadata": {},
   "outputs": [
    {
     "data": {
      "text/plain": [
       "array([[ 3.        ,  3.14285714,  3.28571429, ...,  9.71428571,\n",
       "         9.85714286, 10.        ],\n",
       "       [ 3.        ,  3.14285714,  3.28571429, ...,  9.71428571,\n",
       "         9.85714286, 10.        ],\n",
       "       [ 3.        ,  3.14285714,  3.28571429, ...,  9.71428571,\n",
       "         9.85714286, 10.        ],\n",
       "       ...,\n",
       "       [ 3.        ,  3.14285714,  3.28571429, ...,  9.71428571,\n",
       "         9.85714286, 10.        ],\n",
       "       [ 3.        ,  3.14285714,  3.28571429, ...,  9.71428571,\n",
       "         9.85714286, 10.        ],\n",
       "       [ 3.        ,  3.14285714,  3.28571429, ...,  9.71428571,\n",
       "         9.85714286, 10.        ]])"
      ]
     },
     "execution_count": 28,
     "metadata": {},
     "output_type": "execute_result"
    }
   ],
   "source": [
    "X"
   ]
  },
  {
   "cell_type": "markdown",
   "metadata": {},
   "source": [
    "Y = [第0列的y座標],[第1列的y座標]..."
   ]
  },
  {
   "cell_type": "code",
   "execution_count": 29,
   "metadata": {},
   "outputs": [
    {
     "data": {
      "text/plain": [
       "array([[6.        , 6.        , 6.        , ..., 6.        , 6.        ,\n",
       "        6.        ],\n",
       "       [6.04081633, 6.04081633, 6.04081633, ..., 6.04081633, 6.04081633,\n",
       "        6.04081633],\n",
       "       [6.08163265, 6.08163265, 6.08163265, ..., 6.08163265, 6.08163265,\n",
       "        6.08163265],\n",
       "       ...,\n",
       "       [7.91836735, 7.91836735, 7.91836735, ..., 7.91836735, 7.91836735,\n",
       "        7.91836735],\n",
       "       [7.95918367, 7.95918367, 7.95918367, ..., 7.95918367, 7.95918367,\n",
       "        7.95918367],\n",
       "       [8.        , 8.        , 8.        , ..., 8.        , 8.        ,\n",
       "        8.        ]])"
      ]
     },
     "execution_count": 29,
     "metadata": {},
     "output_type": "execute_result"
    }
   ],
   "source": [
    "Y"
   ]
  },
  {
   "cell_type": "code",
   "execution_count": 30,
   "metadata": {},
   "outputs": [
    {
     "data": {
      "text/plain": [
       "<matplotlib.collections.PathCollection at 0x124568278>"
      ]
     },
     "execution_count": 30,
     "metadata": {},
     "output_type": "execute_result"
    },
    {
     "data": {
      "image/png": "[encoded data removed]",
      "text/plain": [
       "<Figure size 432x288 with 1 Axes>"
      ]
     },
     "metadata": {
      "needs_background": "light"
     },
     "output_type": "display_data"
    }
   ],
   "source": [
    "#拉平後合起來\n",
    "P = np.c_[X.ravel(), Y.ravel()]\n",
    "# 預測結果\n",
    "C = clf.predict(P)\n",
    "plt.scatter(P[:, 0], P[:, 1], c=C)"
   ]
  },
  {
   "cell_type": "markdown",
   "metadata": {},
   "source": [
    "### ravel()拉平"
   ]
  },
  {
   "cell_type": "code",
   "execution_count": 31,
   "metadata": {},
   "outputs": [
    {
     "data": {
      "text/plain": [
       "array([ 3.        ,  3.14285714,  3.28571429, ...,  9.71428571,\n",
       "        9.85714286, 10.        ])"
      ]
     },
     "execution_count": 31,
     "metadata": {},
     "output_type": "execute_result"
    }
   ],
   "source": [
    "X.ravel()"
   ]
  },
  {
   "cell_type": "markdown",
   "metadata": {},
   "source": [
    "## 插播：contour用法 等高線"
   ]
  },
  {
   "cell_type": "code",
   "execution_count": 33,
   "metadata": {},
   "outputs": [],
   "source": [
    "xL = np.array([1, 2, 3, 4])\n",
    "yL = np.array([5, 6, 7, 8])\n",
    "X, Y = np.meshgrid(xL, yL)"
   ]
  },
  {
   "cell_type": "code",
   "execution_count": 34,
   "metadata": {},
   "outputs": [
    {
     "data": {
      "text/plain": [
       "array([[1, 2, 3, 4],\n",
       "       [1, 2, 3, 4],\n",
       "       [1, 2, 3, 4],\n",
       "       [1, 2, 3, 4]])"
      ]
     },
     "execution_count": 34,
     "metadata": {},
     "output_type": "execute_result"
    }
   ],
   "source": [
    "X"
   ]
  },
  {
   "cell_type": "code",
   "execution_count": 35,
   "metadata": {},
   "outputs": [
    {
     "data": {
      "text/plain": [
       "array([[5, 5, 5, 5],\n",
       "       [6, 6, 6, 6],\n",
       "       [7, 7, 7, 7],\n",
       "       [8, 8, 8, 8]])"
      ]
     },
     "execution_count": 35,
     "metadata": {},
     "output_type": "execute_result"
    }
   ],
   "source": [
    "Y"
   ]
  },
  {
   "cell_type": "markdown",
   "metadata": {},
   "source": [
    "### 分兩類"
   ]
  },
  {
   "cell_type": "code",
   "execution_count": 36,
   "metadata": {},
   "outputs": [],
   "source": [
    "# 1or2\n",
    "Z = np.random.randint(1, 3, (4, 4))"
   ]
  },
  {
   "cell_type": "code",
   "execution_count": 37,
   "metadata": {},
   "outputs": [
    {
     "data": {
      "text/plain": [
       "array([[1, 1, 1, 2],\n",
       "       [1, 1, 2, 1],\n",
       "       [1, 2, 2, 2],\n",
       "       [2, 1, 1, 2]])"
      ]
     },
     "execution_count": 37,
     "metadata": {},
     "output_type": "execute_result"
    }
   ],
   "source": [
    "Z"
   ]
  },
  {
   "cell_type": "markdown",
   "metadata": {},
   "source": [
    "### contour"
   ]
  },
  {
   "cell_type": "code",
   "execution_count": 38,
   "metadata": {},
   "outputs": [
    {
     "data": {
      "text/plain": [
       "<matplotlib.collections.PathCollection at 0x1246c1eb8>"
      ]
     },
     "execution_count": 38,
     "metadata": {},
     "output_type": "execute_result"
    },
    {
     "data": {
      "image/png": "[encoded data removed]",
      "text/plain": [
       "<Figure size 432x288 with 1 Axes>"
      ]
     },
     "metadata": {
      "needs_background": "light"
     },
     "output_type": "display_data"
    }
   ],
   "source": [
    "Z = np.random.randint(1, 3, (4, 4))\n",
    "plt.contour(X, Y, Z)\n",
    "# 格點\n",
    "plt.scatter(X.ravel(), Y.ravel(), c=Z.ravel())"
   ]
  },
  {
   "cell_type": "markdown",
   "metadata": {},
   "source": [
    "### contourf 填滿"
   ]
  },
  {
   "cell_type": "code",
   "execution_count": 39,
   "metadata": {},
   "outputs": [
    {
     "data": {
      "text/plain": [
       "<matplotlib.collections.PathCollection at 0x1247acba8>"
      ]
     },
     "execution_count": 39,
     "metadata": {},
     "output_type": "execute_result"
    },
    {
     "data": {
      "image/png": "[encoded data removed]",
      "text/plain": [
       "<Figure size 432x288 with 1 Axes>"
      ]
     },
     "metadata": {
      "needs_background": "light"
     },
     "output_type": "display_data"
    }
   ],
   "source": [
    "Z = np.random.randint(1, 3, (4, 4))\n",
    "plt.contourf(X, Y, Z)\n",
    "# 格點\n",
    "plt.scatter(X.ravel(), Y.ravel(), c=Z.ravel())"
   ]
  },
  {
   "cell_type": "markdown",
   "metadata": {},
   "source": [
    "## 資料視覺化終極版"
   ]
  },
  {
   "cell_type": "code",
   "execution_count": 45,
   "metadata": {},
   "outputs": [
    {
     "data": {
      "text/plain": [
       "<matplotlib.collections.PathCollection at 0x124f92dd8>"
      ]
     },
     "execution_count": 45,
     "metadata": {},
     "output_type": "execute_result"
    },
    {
     "data": {
      "image/png": "[encoded data removed]",
      "text/plain": [
       "<Figure size 432x288 with 1 Axes>"
      ]
     },
     "metadata": {
      "needs_background": "light"
     },
     "output_type": "display_data"
    }
   ],
   "source": [
    "x_arr = np.arange(2.5, 10.5, 0.02)\n",
    "y_arr = np.arange(5.5, 8.5, 0.02)\n",
    "X, Y = np.meshgrid(x_arr, y_arr)\n",
    "P = np.c_[X.ravel(), Y.ravel()]\n",
    "z = clf.predict(P)\n",
    "Z = z.reshape(X.shape)\n",
    "plt.contourf(X, Y, Z, cmap=\"Paired\", alpha=0.3)\n",
    "plt.scatter(x[:, 0], x[:, 1], c=y, cmap=\"Paired\", s=150)"
   ]
  },
  {
   "cell_type": "code",
   "execution_count": 46,
   "metadata": {},
   "outputs": [
    {
     "data": {
      "text/plain": [
       "array([[ 2.5 ,  5.5 ],\n",
       "       [ 2.52,  5.5 ],\n",
       "       [ 2.54,  5.5 ],\n",
       "       ...,\n",
       "       [10.44,  8.48],\n",
       "       [10.46,  8.48],\n",
       "       [10.48,  8.48]])"
      ]
     },
     "execution_count": 46,
     "metadata": {},
     "output_type": "execute_result"
    }
   ],
   "source": [
    "P"
   ]
  },
  {
   "cell_type": "code",
   "execution_count": 47,
   "metadata": {},
   "outputs": [
    {
     "data": {
      "text/plain": [
       "array([1, 1, 1, ..., 2, 2, 2])"
      ]
     },
     "execution_count": 47,
     "metadata": {},
     "output_type": "execute_result"
    }
   ],
   "source": [
    "clf.predict(P)"
   ]
  },
  {
   "cell_type": "code",
   "execution_count": 48,
   "metadata": {},
   "outputs": [
    {
     "data": {
      "text/plain": [
       "(150, 400)"
      ]
     },
     "execution_count": 48,
     "metadata": {},
     "output_type": "execute_result"
    }
   ],
   "source": [
    "X.shape"
   ]
  },
  {
   "cell_type": "markdown",
   "metadata": {},
   "source": [
    "## 鳶尾花數據庫 iris"
   ]
  },
  {
   "cell_type": "code",
   "execution_count": 69,
   "metadata": {},
   "outputs": [],
   "source": [
    "from sklearn.datasets import load_iris"
   ]
  },
  {
   "cell_type": "code",
   "execution_count": 70,
   "metadata": {},
   "outputs": [],
   "source": [
    "iris = load_iris()"
   ]
  },
  {
   "cell_type": "code",
   "execution_count": 71,
   "metadata": {},
   "outputs": [],
   "source": [
    "#print(iris.DESCR)"
   ]
  },
  {
   "cell_type": "code",
   "execution_count": 72,
   "metadata": {},
   "outputs": [],
   "source": [
    "# 輸入\n",
    "x = iris.data\n",
    "# 輸出\n",
    "y = iris.target"
   ]
  },
  {
   "cell_type": "code",
   "execution_count": 73,
   "metadata": {},
   "outputs": [
    {
     "data": {
      "text/plain": [
       "array([[5.1, 3.5, 1.4, 0.2],\n",
       "       [4.9, 3. , 1.4, 0.2],\n",
       "       [4.7, 3.2, 1.3, 0.2],\n",
       "       [4.6, 3.1, 1.5, 0.2],\n",
       "       [5. , 3.6, 1.4, 0.2]])"
      ]
     },
     "execution_count": 73,
     "metadata": {},
     "output_type": "execute_result"
    }
   ],
   "source": [
    "x[:5]"
   ]
  },
  {
   "cell_type": "code",
   "execution_count": 74,
   "metadata": {},
   "outputs": [
    {
     "data": {
      "text/plain": [
       "array([0, 0, 0, 0, 0])"
      ]
     },
     "execution_count": 74,
     "metadata": {},
     "output_type": "execute_result"
    }
   ],
   "source": [
    "y[:5]"
   ]
  },
  {
   "cell_type": "markdown",
   "metadata": {},
   "source": [
    "## 選兩個fearture"
   ]
  },
  {
   "cell_type": "code",
   "execution_count": 75,
   "metadata": {},
   "outputs": [],
   "source": [
    "X = x[:, :2]"
   ]
  },
  {
   "cell_type": "code",
   "execution_count": 76,
   "metadata": {},
   "outputs": [],
   "source": [
    "Y = y"
   ]
  },
  {
   "cell_type": "code",
   "execution_count": 77,
   "metadata": {},
   "outputs": [
    {
     "data": {
      "text/plain": [
       "150"
      ]
     },
     "execution_count": 77,
     "metadata": {},
     "output_type": "execute_result"
    }
   ],
   "source": [
    "len(X)"
   ]
  },
  {
   "cell_type": "markdown",
   "metadata": {},
   "source": [
    "## 區分訓練資料、測試資料"
   ]
  },
  {
   "cell_type": "code",
   "execution_count": 78,
   "metadata": {},
   "outputs": [],
   "source": [
    "from sklearn.model_selection import train_test_split"
   ]
  },
  {
   "cell_type": "code",
   "execution_count": 79,
   "metadata": {},
   "outputs": [],
   "source": [
    "x_train, x_test, y_train, y_test = train_test_split(X, Y,\n",
    "                                                    test_size = 0.2,\n",
    "                                                    random_state = 0)"
   ]
  },
  {
   "cell_type": "code",
   "execution_count": 81,
   "metadata": {},
   "outputs": [
    {
     "data": {
      "text/plain": [
       "<matplotlib.collections.PathCollection at 0x1256576a0>"
      ]
     },
     "execution_count": 81,
     "metadata": {},
     "output_type": "execute_result"
    },
    {
     "data": {
      "image/png": "[encoded data removed]",
      "text/plain": [
       "<Figure size 432x288 with 1 Axes>"
      ]
     },
     "metadata": {
      "needs_background": "light"
     },
     "output_type": "display_data"
    }
   ],
   "source": [
    "plt.scatter(X[:,0], X[:,1], c=Y, cmap=\"Paired\")"
   ]
  },
  {
   "cell_type": "markdown",
   "metadata": {},
   "source": [
    "### Step 1. 開一台函數學習機"
   ]
  },
  {
   "cell_type": "code",
   "execution_count": 82,
   "metadata": {},
   "outputs": [],
   "source": [
    "clf = SVC(gamma = \"auto\")"
   ]
  },
  {
   "cell_type": "markdown",
   "metadata": {},
   "source": [
    "### Step 2. 訓練"
   ]
  },
  {
   "cell_type": "code",
   "execution_count": 83,
   "metadata": {},
   "outputs": [
    {
     "data": {
      "text/plain": [
       "SVC(C=1.0, cache_size=200, class_weight=None, coef0=0.0,\n",
       "    decision_function_shape='ovr', degree=3, gamma='auto', kernel='rbf',\n",
       "    max_iter=-1, probability=False, random_state=None, shrinking=True,\n",
       "    tol=0.001, verbose=False)"
      ]
     },
     "execution_count": 83,
     "metadata": {},
     "output_type": "execute_result"
    }
   ],
   "source": [
    "clf.fit(x_train, y_train)"
   ]
  },
  {
   "cell_type": "markdown",
   "metadata": {},
   "source": [
    "### Step 3. 預測"
   ]
  },
  {
   "cell_type": "code",
   "execution_count": 84,
   "metadata": {},
   "outputs": [],
   "source": [
    "y_predict = clf.predict(x_test)"
   ]
  },
  {
   "cell_type": "code",
   "execution_count": 85,
   "metadata": {},
   "outputs": [
    {
     "data": {
      "text/plain": [
       "array([1, 1, 0, 2, 0, 2, 0, 2, 2, 2, 1, 2, 2, 2, 2, 0, 1, 1, 0, 0, 1, 1,\n",
       "       0, 0, 2, 0, 0, 2, 1, 0])"
      ]
     },
     "execution_count": 85,
     "metadata": {},
     "output_type": "execute_result"
    }
   ],
   "source": [
    "y_predict"
   ]
  },
  {
   "cell_type": "code",
   "execution_count": 86,
   "metadata": {},
   "outputs": [
    {
     "data": {
      "text/plain": [
       "array([2, 1, 0, 2, 0, 2, 0, 1, 1, 1, 2, 1, 1, 1, 1, 0, 1, 1, 0, 0, 2, 1,\n",
       "       0, 0, 2, 0, 0, 1, 1, 0])"
      ]
     },
     "execution_count": 86,
     "metadata": {},
     "output_type": "execute_result"
    }
   ],
   "source": [
    "y_test"
   ]
  },
  {
   "cell_type": "markdown",
   "metadata": {},
   "source": [
    "檢查結果差多少"
   ]
  },
  {
   "cell_type": "code",
   "execution_count": 87,
   "metadata": {},
   "outputs": [
    {
     "data": {
      "text/plain": [
       "array([-1,  0,  0,  0,  0,  0,  0,  1,  1,  1, -1,  1,  1,  1,  1,  0,  0,\n",
       "        0,  0,  0, -1,  0,  0,  0,  0,  0,  0,  1,  0,  0])"
      ]
     },
     "execution_count": 87,
     "metadata": {},
     "output_type": "execute_result"
    }
   ],
   "source": [
    "y_predict - y_test"
   ]
  },
  {
   "cell_type": "code",
   "execution_count": 88,
   "metadata": {},
   "outputs": [
    {
     "data": {
      "text/plain": [
       "<matplotlib.collections.PathCollection at 0x125dfbb38>"
      ]
     },
     "execution_count": 88,
     "metadata": {},
     "output_type": "execute_result"
    },
    {
     "data": {
      "image/png": "[encoded data removed]",
      "text/plain": [
       "<Figure size 432x288 with 1 Axes>"
      ]
     },
     "metadata": {
      "needs_background": "light"
     },
     "output_type": "display_data"
    }
   ],
   "source": [
    "plt.scatter(x_test[:, 0], x_test[:, 1], c = y_predict - y_test)"
   ]
  },
  {
   "cell_type": "code",
   "execution_count": 92,
   "metadata": {},
   "outputs": [
    {
     "data": {
      "text/plain": [
       "<matplotlib.collections.PathCollection at 0x12600a9b0>"
      ]
     },
     "execution_count": 92,
     "metadata": {},
     "output_type": "execute_result"
    },
    {
     "data": {
      "image/png": "[encoded data removed]",
      "text/plain": [
       "<Figure size 432x288 with 1 Axes>"
      ]
     },
     "metadata": {
      "needs_background": "light"
     },
     "output_type": "display_data"
    }
   ],
   "source": [
    "x0 = np.arange(3.8, 8.2, 0.02)\n",
    "y0 = np.arange(1.8, 4.7, 0.02)\n",
    "\n",
    "xm, ym = np.meshgrid(x0, y0)\n",
    "P = np.c_[xm.ravel(), ym.ravel()]\n",
    "#預測結果\n",
    "z = clf.predict(P)\n",
    "Z = z.reshape(xm.shape)\n",
    "plt.contourf(xm, ym, Z, cmap = \"Paired\", alpha = 0.2)\n",
    "#點是正確答案\n",
    "plt.scatter(x_test[:, 0], x_test[:, 1], cmap = \"Paired\", c = y_test)"
   ]
  },
  {
   "cell_type": "code",
   "execution_count": null,
   "metadata": {},
   "outputs": [],
   "source": []
  }
 ],
 "metadata": {
  "kernelspec": {
   "display_name": "Python 3",
   "language": "python",
   "name": "python3"
  },
  "language_info": {
   "codemirror_mode": {
    "name": "ipython",
    "version": 3
   },
   "file_extension": ".py",
   "mimetype": "text/x-python",
   "name": "python",
   "nbconvert_exporter": "python",
   "pygments_lexer": "ipython3",
   "version": "3.7.1"
  }
 },
 "nbformat": 4,
 "nbformat_minor": 2
}
