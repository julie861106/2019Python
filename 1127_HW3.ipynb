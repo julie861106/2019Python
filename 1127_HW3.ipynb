{
 "cells": [
  {
   "cell_type": "markdown",
   "metadata": {},
   "source": [
    "# 河內塔"
   ]
  },
  {
   "cell_type": "code",
   "execution_count": 1,
   "metadata": {},
   "outputs": [
    {
     "name": "stdout",
     "output_type": "stream",
     "text": [
      "請輸入整數：5\n",
      "由 A 移至 C\n",
      "由 A 移至 B\n",
      "由 C 移至 B\n",
      "由 A 移至 C\n",
      "由 B 移至 A\n",
      "由 B 移至 C\n",
      "由 A 移至 C\n",
      "由 A 移至 B\n",
      "由 C 移至 B\n",
      "由 C 移至 A\n",
      "由 B 移至 A\n",
      "由 C 移至 B\n",
      "由 A 移至 C\n",
      "由 A 移至 B\n",
      "由 C 移至 B\n",
      "由 A 移至 C\n",
      "由 B 移至 A\n",
      "由 B 移至 C\n",
      "由 A 移至 C\n",
      "由 B 移至 A\n",
      "由 C 移至 B\n",
      "由 C 移至 A\n",
      "由 B 移至 A\n",
      "由 B 移至 C\n",
      "由 A 移至 C\n",
      "由 A 移至 B\n",
      "由 C 移至 B\n",
      "由 A 移至 C\n",
      "由 B 移至 A\n",
      "由 B 移至 C\n",
      "由 A 移至 C\n"
     ]
    }
   ],
   "source": [
    "def hanoi(n, A, B, C):\n",
    "    if n == 1:\n",
    "        return [(A, C)]\n",
    "    else:\n",
    "        return hanoi(n-1, A, C, B) + hanoi(1, A, B, C) + hanoi(n-1, B, A, C)\n",
    "\n",
    "n = input(\"請輸入整數：\")\n",
    "for move in hanoi(int(n), 'A', 'B', 'C'):\n",
    "    print(\"由 %c 移至 %c\" % move)"
   ]
  },
  {
   "cell_type": "code",
   "execution_count": null,
   "metadata": {},
   "outputs": [],
   "source": []
  }
 ],
 "metadata": {
  "kernelspec": {
   "display_name": "Python 3",
   "language": "python",
   "name": "python3"
  },
  "language_info": {
   "codemirror_mode": {
    "name": "ipython",
    "version": 3
   },
   "file_extension": ".py",
   "mimetype": "text/x-python",
   "name": "python",
   "nbconvert_exporter": "python",
   "pygments_lexer": "ipython3",
   "version": "3.7.1"
  }
 },
 "nbformat": 4,
 "nbformat_minor": 2
}
