{
 "cells": [
  {
   "cell_type": "markdown",
   "metadata": {},
   "source": [
    "# 幾A幾B"
   ]
  },
  {
   "cell_type": "code",
   "execution_count": 38,
   "metadata": {},
   "outputs": [
    {
     "name": "stdout",
     "output_type": "stream",
     "text": [
      "=====歡迎來到猜數字遊戲=====\n",
      "每猜一個數，會根據這個數字給出幾A幾B\n",
      "其中A前面的數字表示位置正確的數的個數\n",
      "而B前的數字表示數字正確而位置不對的數的個數\n",
      "請輸入四位不重複的數字(輸入Q放棄遊戲)1234\n",
      "第1次\n",
      "你猜的數字為：1234 0A2B\n",
      "請輸入四位不重複的數字(輸入Q放棄遊戲)5678\n",
      "第2次\n",
      "你猜的數字為：5678 1A1B\n",
      "請輸入四位不重複的數字(輸入Q放棄遊戲)9012\n",
      "第3次\n",
      "你猜的數字為：9012 0A0B\n",
      "請輸入四位不重複的數字(輸入Q放棄遊戲)3476\n",
      "第4次\n",
      "你猜的數字為：3476 0A4B\n",
      "請輸入四位不重複的數字(輸入Q放棄遊戲)7643\n",
      "第5次\n",
      "你猜的數字為：7643 4A0B\n",
      "你猜對了！答案為：7643\n"
     ]
    }
   ],
   "source": [
    "import random\n",
    "\n",
    "#選四位數字 數字不可重複\n",
    "def pickNum():\n",
    "    digit = ('0123456789')\n",
    "    ans = \"\".join(random.sample(digit, 4))\n",
    "    return ans\n",
    "\n",
    "#計數器\n",
    "def timer(times):\n",
    "    times += 1\n",
    "    return times\n",
    "\n",
    "#比對數字\n",
    "def comparison(guess, ans):\n",
    "    a, b = 0, 0\n",
    "    for i in range(4):\n",
    "        if guess[i] == ans[i]:\n",
    "            a += 1\n",
    "        elif guess[i] in ans:\n",
    "            b += 1\n",
    "    return (a,b)\n",
    "    \n",
    "#猜數字遊戲\n",
    "def guessNumGame():\n",
    "    ans = pickNum()\n",
    "    times = 0\n",
    "    print(\"=====歡迎來到猜數字遊戲=====\")\n",
    "    print(\"每猜一個數，會根據這個數字給出幾A幾B\")\n",
    "    print(\"其中A前面的數字表示位置正確的數的個數\")\n",
    "    print(\"而B前的數字表示數字正確而位置不對的數的個數\")\n",
    "    while True:\n",
    "        guess = input(\"請輸入四位不重複的數字(輸入Q放棄遊戲)\")\n",
    "        if len(guess) == 4 and guess.isdecimal():\n",
    "            (a, b) = comparison(guess, ans)\n",
    "            times = timer(times)\n",
    "            print(\"第\" + str(times) + \"次\")\n",
    "            print(\"你猜的數字為：\" + str(guess) + \" \" + str(a) + \"A\" + str(b) + \"B\")\n",
    "            if guess == ans:\n",
    "                print(\"你猜對了！答案為：\" + str(ans))\n",
    "                break\n",
    "        elif guess == \"Q\" or guess == \"q\":\n",
    "            print(\"好可惜！你已放棄遊戲！\")\n",
    "            break\n",
    "        else:\n",
    "            print(\"輸入錯誤，請重新輸入\")  \n",
    "    \n",
    "guessNumGame()\n"
   ]
  },
  {
   "cell_type": "markdown",
   "metadata": {},
   "source": [
    "# 成績輸入系統"
   ]
  },
  {
   "cell_type": "code",
   "execution_count": 29,
   "metadata": {},
   "outputs": [
    {
     "name": "stdout",
     "output_type": "stream",
     "text": [
      "==============================\n",
      "學生姓名                   分數\n",
      "------------------------------\n",
      "Apple                     67\n",
      "Banana                    83.4\n",
      "Cindy                     93\n"
     ]
    }
   ],
   "source": [
    "name = []\n",
    "score = []\n",
    "while True:\n",
    "    name.append(input(\"請輸入學生姓名：\"))\n",
    "    if name[-1] == \"stop\":\n",
    "        break\n",
    "    else:\n",
    "        score.append(input(\"請輸入分數：\"))\n",
    "        \n",
    "print(\"=\"*30)\n",
    "print(\"{:16s}{:>9s}\".format(\"學生姓名\", \"分數\"))\n",
    "print(\"-\"*30)\n",
    "for i in range(len(name)-1):\n",
    "    print(\"{:26s}{:>2s}\".format(name[i], score[i]))\n"
   ]
  },
  {
   "cell_type": "markdown",
   "metadata": {},
   "source": [
    "# 找零機制"
   ]
  },
  {
   "cell_type": "code",
   "execution_count": 30,
   "metadata": {},
   "outputs": [
    {
     "name": "stdout",
     "output_type": "stream",
     "text": [
      "輸入一個大於0且小於1000的消費金額:823\n",
      "找回0張500元,1張100元,1個50元,2個10元,1個5元,2個1元\n"
     ]
    }
   ],
   "source": [
    "p =(input(\"輸入一個大於0且小於1000的消費金額:\"))\n",
    "x = (1000-int(p))\n",
    "if x:\n",
    "    a = x//500\n",
    "    b = (x%500)//100\n",
    "    c = (x%100)//50\n",
    "    d = (x%50)//10\n",
    "    e = (x%10)//5\n",
    "    f = (x%5)//1\n",
    "    print(\"找回%d張500元,%d張100元,%d個50元,%d個10元,%d個5元,%d個1元\" %(a,b,c,d,e,f))"
   ]
  }
 ],
 "metadata": {
  "kernelspec": {
   "display_name": "Python 3",
   "language": "python",
   "name": "python3"
  },
  "language_info": {
   "codemirror_mode": {
    "name": "ipython",
    "version": 3
   },
   "file_extension": ".py",
   "mimetype": "text/x-python",
   "name": "python",
   "nbconvert_exporter": "python",
   "pygments_lexer": "ipython3",
   "version": "3.7.1"
  }
 },
 "nbformat": 4,
 "nbformat_minor": 2
}
