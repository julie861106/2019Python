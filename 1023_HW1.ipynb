{
 "cells": [
  {
   "cell_type": "code",
   "execution_count": 1,
   "metadata": {},
   "outputs": [],
   "source": [
    "%matplotlib inline\n",
    "import numpy as np\n",
    "import matplotlib.pyplot as plt\n",
    "import pandas as pd\n",
    "from ipywidgets import interact\n",
    "plt.style.use(\"fivethirtyeight\")"
   ]
  },
  {
   "cell_type": "markdown",
   "metadata": {},
   "source": [
    "# 骰子賭博遊戲"
   ]
  },
  {
   "cell_type": "code",
   "execution_count": 29,
   "metadata": {},
   "outputs": [
    {
     "name": "stdout",
     "output_type": "stream",
     "text": [
      "本金為:1000\n",
      "=====遊戲開始=====\n",
      "請輸入賭金（若要跳出請按Q）：1000\n",
      "請問要猜大還是猜小（輸入”大“或“小”）：大\n",
      "你猜對囉！ 骰子點數為：[3, 3, 6] 骰子總和為：12\n",
      "剩下本金為：2000\n",
      "=====遊戲開始=====\n",
      "請輸入賭金（若要跳出請按Q）：小\n",
      "格式錯誤，請重新輸入\n",
      "你現在的本金為：2000\n",
      "=====遊戲開始=====\n",
      "請輸入賭金（若要跳出請按Q）：400\n",
      "請問要猜大還是猜小（輸入”大“或“小”）：小\n",
      "你猜錯囉！ 骰子點數為：[1, 5, 5] 骰子總和為：11\n",
      "剩下本金為：1600\n",
      "=====遊戲開始=====\n",
      "請輸入賭金（若要跳出請按Q）：1600\n",
      "請問要猜大還是猜小（輸入”大“或“小”）：大\n",
      "你猜對囉！ 骰子點數為：[2, 6, 3] 骰子總和為：11\n",
      "剩下本金為：3200\n",
      "=====遊戲開始=====\n",
      "請輸入賭金（若要跳出請按Q）：500\n",
      "請問要猜大還是猜小（輸入”大“或“小”）：小\n",
      "你猜錯囉！ 骰子點數為：[4, 4, 5] 骰子總和為：13\n",
      "剩下本金為：2700\n",
      "=====遊戲開始=====\n",
      "請輸入賭金（若要跳出請按Q）：Q\n",
      "你現在的本金為：2700\n"
     ]
    }
   ],
   "source": [
    "import random\n",
    "\n",
    "def diceGame():\n",
    "    totalMoney = 1000\n",
    "    print(\"本金為:\" + str(totalMoney))\n",
    "    while totalMoney > 0:\n",
    "        print(\"=====遊戲開始=====\")\n",
    "        yourMoney = input(\"請輸入賭金（若要跳出請按Q）：\")\n",
    "        if yourMoney == \"Q\" or yourMoney == \"q\":\n",
    "            print(\"你現在的本金為：\" + str(totalMoney))\n",
    "            break\n",
    "        elif yourMoney.isdecimal():\n",
    "            if int(yourMoney) > totalMoney:\n",
    "                print(\"心太大囉！請重新輸入\")\n",
    "                print(\"你現在的本金為：\" + str(totalMoney))\n",
    "            else:\n",
    "                dice = rollDice()\n",
    "                sumDice = sum(dice)\n",
    "                myPick = input(\"請問要猜大還是猜小（輸入”大“或“小”）：\")\n",
    "                pick = [\"大\", \"小\"]\n",
    "                if myPick in pick:\n",
    "                    if myPick == result(sumDice):\n",
    "                        totalMoney += int(yourMoney)\n",
    "                        print(\"你猜對囉！ 骰子點數為：\" + str(dice) + \" 骰子總和為：\" + str(sumDice))\n",
    "                        print(\"剩下本金為：\" + str(totalMoney))\n",
    "                    else:\n",
    "                        totalMoney -= int(yourMoney)\n",
    "                        print(\"你猜錯囉！ 骰子點數為：\" + str(dice) + \" 骰子總和為：\" + str(sumDice))\n",
    "                        print(\"剩下本金為：\" + str(totalMoney))\n",
    "                else:\n",
    "                    print(\"格式錯誤，請重新輸入\") \n",
    "                    print(\"你現在的本金為：\" + str(totalMoney))\n",
    "                \n",
    "        else:\n",
    "            print(\"格式錯誤，請重新輸入\") \n",
    "            print(\"你現在的本金為：\" + str(totalMoney))\n",
    "    \n",
    "def rollDice():\n",
    "    dice = []\n",
    "    for i in range(3):\n",
    "        point = random.randint(1,6)\n",
    "        dice.append(point)\n",
    "    return(dice)\n",
    "\n",
    "def result(sumPoint):\n",
    "    if 3 <= sumPoint <= 10:\n",
    "        return(\"小\")\n",
    "    elif 11<= sumPoint <=18:\n",
    "        return(\"大\")\n",
    "    \n",
    "diceGame()"
   ]
  }
 ],
 "metadata": {
  "kernelspec": {
   "display_name": "Python 3",
   "language": "python",
   "name": "python3"
  },
  "language_info": {
   "codemirror_mode": {
    "name": "ipython",
    "version": 3
   },
   "file_extension": ".py",
   "mimetype": "text/x-python",
   "name": "python",
   "nbconvert_exporter": "python",
   "pygments_lexer": "ipython3",
   "version": "3.7.1"
  }
 },
 "nbformat": 4,
 "nbformat_minor": 2
}
