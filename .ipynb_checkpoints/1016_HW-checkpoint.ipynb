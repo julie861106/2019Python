{
 "cells": [
  {
   "cell_type": "code",
   "execution_count": 5,
   "metadata": {},
   "outputs": [],
   "source": [
    "%matplotlib inline\n",
    "\n",
    "import numpy as np\n",
    "import matplotlib.pyplot as plt\n",
    "import pandas as pd"
   ]
  },
  {
   "cell_type": "markdown",
   "metadata": {},
   "source": [
    "# 海戰棋 猜戰艦位置"
   ]
  },
  {
   "cell_type": "code",
   "execution_count": 70,
   "metadata": {},
   "outputs": [],
   "source": [
    "from random import randint"
   ]
  },
  {
   "cell_type": "code",
   "execution_count": 77,
   "metadata": {},
   "outputs": [],
   "source": [
    "board = []\n",
    "for i in range(5):\n",
    "    board.append([\"O\"] * 5)\n",
    "    \n",
    "def print_board(board):\n",
    "    for row in board:\n",
    "        print (\" \".join(row))\n",
    "        \n",
    "#定義戰艦列座標\n",
    "def random_row(board):\n",
    "    return randint(0, len(board) - 1)\n",
    "\n",
    "#定義戰艦欄座標\n",
    "def random_col(board):\n",
    "    return randint(0, len(board[0]) - 1)"
   ]
  },
  {
   "cell_type": "code",
   "execution_count": 78,
   "metadata": {},
   "outputs": [
    {
     "name": "stdout",
     "output_type": "stream",
     "text": [
      "遊戲開始!\n",
      "O O O O O\n",
      "O O O O O\n",
      "O O O O O\n",
      "O O O O O\n",
      "O O O O O\n"
     ]
    }
   ],
   "source": [
    "print(\"遊戲開始!\")\n",
    "print_board(board)\n",
    "ship_row = random_row(board)\n",
    "ship_col = random_col(board)"
   ]
  },
  {
   "cell_type": "code",
   "execution_count": 79,
   "metadata": {},
   "outputs": [
    {
     "name": "stdout",
     "output_type": "stream",
     "text": [
      "請猜列:2\n",
      "請猜欄:2\n",
      "猜錯了!\n",
      "猜的次數 1\n",
      "O O O O O\n",
      "O O O O O\n",
      "O O X O O\n",
      "O O O O O\n",
      "O O O O O\n",
      "請猜列:3\n",
      "請猜欄:2\n",
      "猜錯了!\n",
      "猜的次數 2\n",
      "O O O O O\n",
      "O O O O O\n",
      "O O X O O\n",
      "O O X O O\n",
      "O O O O O\n",
      "請猜列:4\n",
      "請猜欄:1\n",
      "猜錯了!\n",
      "猜的次數 3\n",
      "O O O O O\n",
      "O O O O O\n",
      "O O X O O\n",
      "O O X O O\n",
      "O X O O O\n",
      "請猜列:5\n",
      "請猜欄:2\n",
      "超出範圍了喔！\n",
      "猜的次數 4\n",
      "O O O O O\n",
      "O O O O O\n",
      "O O X O O\n",
      "O O X O O\n",
      "O X O O O\n",
      "遊戲結束\n"
     ]
    }
   ],
   "source": [
    "for turn in range(4):\n",
    "    \n",
    "    guess_row = int(input(\"請猜列:\"))\n",
    "    guess_col = int(input(\"請猜欄:\"))\n",
    "\n",
    "    if guess_row == ship_row and guess_col == ship_col:\n",
    "        print(\"你成功找到戰艦了!\")\n",
    "        print(\"遊戲結束\")\n",
    "        break\n",
    "    else:\n",
    "        if(guess_row not in range(5)) or (guess_col not in range(5)):\n",
    "            print(\"超出範圍了喔！\")\n",
    "        elif(board[guess_row][guess_col] == \"X\"):\n",
    "            print(\"你猜過了喔！\")\n",
    "        else:\n",
    "            print(\"猜錯了!\")\n",
    "            board[guess_row][guess_col] = \"X\"\n",
    "    \n",
    "    print(\"猜的次數\", turn + 1)\n",
    "    print_board(board)\n",
    "    if turn == 3:\n",
    "        print(\"遊戲結束\")"
   ]
  },
  {
   "cell_type": "markdown",
   "metadata": {},
   "source": [
    "# 河內塔"
   ]
  },
  {
   "cell_type": "code",
   "execution_count": 1,
   "metadata": {},
   "outputs": [
    {
     "name": "stdout",
     "output_type": "stream",
     "text": [
      "請輸入整數：3\n",
      "由 A 移至 C\n",
      "由 A 移至 B\n",
      "由 C 移至 B\n",
      "由 A 移至 C\n",
      "由 B 移至 A\n",
      "由 B 移至 C\n",
      "由 A 移至 C\n"
     ]
    }
   ],
   "source": [
    "def hanoi(n, A, B, C):\n",
    "    if n == 1:\n",
    "        return [(A, C)]\n",
    "    else:\n",
    "        return hanoi(n-1, A, C, B) + hanoi(1, A, B, C) + hanoi(n-1, B, A, C)\n",
    "\n",
    "n = input(\"請輸入整數：\")\n",
    "for move in hanoi(int(n), 'A', 'B', 'C'):\n",
    "    print(\"由 %c 移至 %c\" % move)"
   ]
  },
  {
   "cell_type": "markdown",
   "metadata": {},
   "source": [
    "# 費式函數"
   ]
  },
  {
   "cell_type": "code",
   "execution_count": 2,
   "metadata": {},
   "outputs": [
    {
     "name": "stdout",
     "output_type": "stream",
     "text": [
      "請輸入整數：6\n",
      "0 1 1 2 3 5 "
     ]
    }
   ],
   "source": [
    "def fibonacci(n, fib = [0, 1]):\n",
    "    if n >= len(fib):\n",
    "        for i in range(len(fib), n + 1):\n",
    "            fib.append(fib[i - 1] + fib[i - 2])\n",
    "    return fib[n]\n",
    "n = int(input(\"請輸入整數：\"))\n",
    "for i in range(0, n):\n",
    "    print(fibonacci(i), end=' ')"
   ]
  },
  {
   "cell_type": "markdown",
   "metadata": {},
   "source": [
    "# GPA換算"
   ]
  },
  {
   "cell_type": "code",
   "execution_count": 3,
   "metadata": {},
   "outputs": [
    {
     "name": "stdout",
     "output_type": "stream",
     "text": [
      "請輸入成績：80\n",
      "GPA為：3.7\n"
     ]
    }
   ],
   "source": [
    "n = int(input(\"請輸入成績：\"))\n",
    "if n>=90:\n",
    "    print(\"GPA為：4.3\")\n",
    "elif n>=85:\n",
    "    print(\"GPA為：4.0\")\n",
    "elif n>=80:\n",
    "    print(\"GPA為：3.7\")\n",
    "elif n>=77:\n",
    "    print(\"GPA為：3.3\")\n",
    "elif n>=73:\n",
    "    print(\"GPA為：3.0\")\n",
    "elif n>=70:\n",
    "    print(\"GPA為：2.7\")\n",
    "elif n>=67:\n",
    "    print(\"GPA為：2.3\")\n",
    "elif n>=63:\n",
    "    print(\"GPA為：2.0\")\n",
    "elif n>=60:\n",
    "    print(\"GPA為：1.7\")\n",
    "else:\n",
    "    print(\"GPA為：0\")"
   ]
  },
  {
   "cell_type": "code",
   "execution_count": null,
   "metadata": {},
   "outputs": [],
   "source": []
  }
 ],
 "metadata": {
  "kernelspec": {
   "display_name": "Python 3",
   "language": "python",
   "name": "python3"
  },
  "language_info": {
   "codemirror_mode": {
    "name": "ipython",
    "version": 3
   },
   "file_extension": ".py",
   "mimetype": "text/x-python",
   "name": "python",
   "nbconvert_exporter": "python",
   "pygments_lexer": "ipython3",
   "version": "3.7.1"
  }
 },
 "nbformat": 4,
 "nbformat_minor": 2
}
