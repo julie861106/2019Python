{
 "cells": [
  {
   "cell_type": "code",
   "execution_count": 114,
   "metadata": {},
   "outputs": [],
   "source": [
    "%matplotlib inline\n",
    "\n",
    "import numpy as np\n",
    "import matplotlib.pyplot as plt\n",
    "import pandas as pd"
   ]
  },
  {
   "cell_type": "markdown",
   "metadata": {},
   "source": [
    "# map and filter"
   ]
  },
  {
   "cell_type": "code",
   "execution_count": 3,
   "metadata": {},
   "outputs": [],
   "source": [
    "items = [500, 30, 2000]\n",
    "c = 30.8594"
   ]
  },
  {
   "cell_type": "code",
   "execution_count": 11,
   "metadata": {},
   "outputs": [],
   "source": [
    "egg = []\n",
    "for i in items:\n",
    "    egg.append(i*c)"
   ]
  },
  {
   "cell_type": "code",
   "execution_count": 12,
   "metadata": {},
   "outputs": [
    {
     "data": {
      "text/plain": [
       "[15429.7, 925.782, 61718.8]"
      ]
     },
     "execution_count": 12,
     "metadata": {},
     "output_type": "execute_result"
    }
   ],
   "source": [
    "egg"
   ]
  },
  {
   "cell_type": "code",
   "execution_count": 17,
   "metadata": {},
   "outputs": [],
   "source": [
    "def exchange(p):\n",
    "    return p*c"
   ]
  },
  {
   "cell_type": "code",
   "execution_count": 18,
   "metadata": {},
   "outputs": [
    {
     "data": {
      "text/plain": [
       "15429.7"
      ]
     },
     "execution_count": 18,
     "metadata": {},
     "output_type": "execute_result"
    }
   ],
   "source": [
    "exchange(500)"
   ]
  },
  {
   "cell_type": "code",
   "execution_count": 19,
   "metadata": {},
   "outputs": [
    {
     "data": {
      "text/plain": [
       "[15429.7, 925.782, 61718.8]"
      ]
     },
     "execution_count": 19,
     "metadata": {},
     "output_type": "execute_result"
    }
   ],
   "source": [
    "list(map(exchange, items))"
   ]
  },
  {
   "cell_type": "code",
   "execution_count": 20,
   "metadata": {},
   "outputs": [],
   "source": [
    "egg = list(map(exchange, items))"
   ]
  },
  {
   "cell_type": "code",
   "execution_count": 21,
   "metadata": {},
   "outputs": [
    {
     "data": {
      "text/plain": [
       "[15429.7, 925.782, 61718.8]"
      ]
     },
     "execution_count": 21,
     "metadata": {},
     "output_type": "execute_result"
    }
   ],
   "source": [
    "egg"
   ]
  },
  {
   "cell_type": "markdown",
   "metadata": {},
   "source": [
    "# lambda 救急函數"
   ]
  },
  {
   "cell_type": "code",
   "execution_count": 22,
   "metadata": {},
   "outputs": [
    {
     "data": {
      "text/plain": [
       "[15429.7, 925.782, 61718.8]"
      ]
     },
     "execution_count": 22,
     "metadata": {},
     "output_type": "execute_result"
    }
   ],
   "source": [
    "list(map(lambda p:p*c, items))"
   ]
  },
  {
   "cell_type": "markdown",
   "metadata": {},
   "source": [
    "# list comprehesion"
   ]
  },
  {
   "cell_type": "code",
   "execution_count": 23,
   "metadata": {},
   "outputs": [
    {
     "data": {
      "text/plain": [
       "[15429.7, 925.782, 61718.8]"
      ]
     },
     "execution_count": 23,
     "metadata": {},
     "output_type": "execute_result"
    }
   ],
   "source": [
    "[p*c for p in items]"
   ]
  },
  {
   "cell_type": "markdown",
   "metadata": {},
   "source": [
    "# filter"
   ]
  },
  {
   "cell_type": "code",
   "execution_count": 7,
   "metadata": {},
   "outputs": [],
   "source": [
    "grades = [50, 59, 93, 100, 63, 41, 88]"
   ]
  },
  {
   "cell_type": "code",
   "execution_count": 8,
   "metadata": {},
   "outputs": [],
   "source": [
    "def spam(g):\n",
    "    return g>=60"
   ]
  },
  {
   "cell_type": "code",
   "execution_count": 9,
   "metadata": {},
   "outputs": [
    {
     "data": {
      "text/plain": [
       "True"
      ]
     },
     "execution_count": 9,
     "metadata": {},
     "output_type": "execute_result"
    }
   ],
   "source": [
    "spam(70)"
   ]
  },
  {
   "cell_type": "code",
   "execution_count": 4,
   "metadata": {},
   "outputs": [
    {
     "data": {
      "text/plain": [
       "[93, 100, 63, 88]"
      ]
     },
     "execution_count": 4,
     "metadata": {},
     "output_type": "execute_result"
    }
   ],
   "source": [
    "list(filter(spam, grades))"
   ]
  },
  {
   "cell_type": "code",
   "execution_count": 10,
   "metadata": {},
   "outputs": [
    {
     "data": {
      "text/plain": [
       "[93, 100, 63, 88]"
      ]
     },
     "execution_count": 10,
     "metadata": {},
     "output_type": "execute_result"
    }
   ],
   "source": [
    "list(filter(lambda g:g>=60, grades))"
   ]
  },
  {
   "cell_type": "markdown",
   "metadata": {},
   "source": [
    "# print的使用"
   ]
  },
  {
   "cell_type": "code",
   "execution_count": 11,
   "metadata": {},
   "outputs": [
    {
     "name": "stdout",
     "output_type": "stream",
     "text": [
      "0\n",
      "1\n",
      "2\n",
      "3\n",
      "4\n",
      "5\n",
      "6\n",
      "7\n",
      "8\n",
      "9\n"
     ]
    }
   ],
   "source": [
    "for i in range(10):\n",
    "    print(i)"
   ]
  },
  {
   "cell_type": "code",
   "execution_count": 13,
   "metadata": {},
   "outputs": [
    {
     "name": "stdout",
     "output_type": "stream",
     "text": [
      "0 1 2 3 4 5 6 7 8 9 "
     ]
    }
   ],
   "source": [
    "for i in range(10):\n",
    "    print(i, end = \" \")"
   ]
  },
  {
   "cell_type": "code",
   "execution_count": 14,
   "metadata": {},
   "outputs": [],
   "source": [
    "mylist = [\"A\", \"B\", \"C\", \"D\"]"
   ]
  },
  {
   "cell_type": "code",
   "execution_count": 15,
   "metadata": {},
   "outputs": [
    {
     "data": {
      "text/plain": [
       "'A,B,C,D'"
      ]
     },
     "execution_count": 15,
     "metadata": {},
     "output_type": "execute_result"
    }
   ],
   "source": [
    "\",\".join(mylist)"
   ]
  },
  {
   "cell_type": "code",
   "execution_count": 18,
   "metadata": {},
   "outputs": [],
   "source": [
    "num = list(map(str, range(10)))"
   ]
  },
  {
   "cell_type": "code",
   "execution_count": 19,
   "metadata": {},
   "outputs": [
    {
     "name": "stdout",
     "output_type": "stream",
     "text": [
      "0,1,2,3,4,5,6,7,8,9\n"
     ]
    }
   ],
   "source": [
    "print(\",\".join(num))"
   ]
  },
  {
   "cell_type": "markdown",
   "metadata": {},
   "source": [
    "# print格式化"
   ]
  },
  {
   "cell_type": "code",
   "execution_count": 20,
   "metadata": {},
   "outputs": [],
   "source": [
    "name = \"Julie\"\n",
    "age = 20"
   ]
  },
  {
   "cell_type": "code",
   "execution_count": 24,
   "metadata": {},
   "outputs": [
    {
     "name": "stdout",
     "output_type": "stream",
     "text": [
      "您好, 我是Julie, 今年20歲\n"
     ]
    }
   ],
   "source": [
    "print(\"您好, 我是\" + name + \", 今年\" + str(age) + \"歲。\")"
   ]
  },
  {
   "cell_type": "markdown",
   "metadata": {},
   "source": [
    "### method01: %    s字串 d數值"
   ]
  },
  {
   "cell_type": "code",
   "execution_count": 25,
   "metadata": {},
   "outputs": [],
   "source": [
    "egg = \"您好, 我是%s, 今年%d歲。\"%(name, age)"
   ]
  },
  {
   "cell_type": "code",
   "execution_count": 26,
   "metadata": {},
   "outputs": [
    {
     "name": "stdout",
     "output_type": "stream",
     "text": [
      "您好, 我是Julie, 今年20歲。\n"
     ]
    }
   ],
   "source": [
    "print(egg)"
   ]
  },
  {
   "cell_type": "markdown",
   "metadata": {},
   "source": [
    "### method02: format"
   ]
  },
  {
   "cell_type": "code",
   "execution_count": 28,
   "metadata": {},
   "outputs": [],
   "source": [
    "egg = \"您好, 我是{}, 今年{}歲。\".format(name, age)"
   ]
  },
  {
   "cell_type": "code",
   "execution_count": 30,
   "metadata": {},
   "outputs": [
    {
     "name": "stdout",
     "output_type": "stream",
     "text": [
      "您好, 我是Julie, 今年20歲。\n"
     ]
    }
   ],
   "source": [
    "print(egg)"
   ]
  },
  {
   "cell_type": "markdown",
   "metadata": {},
   "source": [
    "### method03: f-string"
   ]
  },
  {
   "cell_type": "code",
   "execution_count": 31,
   "metadata": {},
   "outputs": [],
   "source": [
    "egg = f\"您好, 我是{name}, 今年{age}歲。\""
   ]
  },
  {
   "cell_type": "code",
   "execution_count": 32,
   "metadata": {},
   "outputs": [
    {
     "name": "stdout",
     "output_type": "stream",
     "text": [
      "您好, 我是Julie, 今年20歲。\n"
     ]
    }
   ],
   "source": [
    "print(egg)"
   ]
  },
  {
   "cell_type": "markdown",
   "metadata": {},
   "source": [
    "### 數字照我們的意思顯示"
   ]
  },
  {
   "cell_type": "code",
   "execution_count": 36,
   "metadata": {},
   "outputs": [],
   "source": [
    "c = 30.8594353"
   ]
  },
  {
   "cell_type": "code",
   "execution_count": 37,
   "metadata": {},
   "outputs": [
    {
     "name": "stdout",
     "output_type": "stream",
     "text": [
      "1美金和台幣30.8594353元\n"
     ]
    }
   ],
   "source": [
    "print(f\"1美金和台幣{c}元\")"
   ]
  },
  {
   "cell_type": "code",
   "execution_count": 39,
   "metadata": {},
   "outputs": [
    {
     "name": "stdout",
     "output_type": "stream",
     "text": [
      "1美金和台幣30.86元\n"
     ]
    }
   ],
   "source": [
    "# 取兩位\n",
    "print(f\"1美金和台幣{c:.2f}元\")"
   ]
  },
  {
   "cell_type": "code",
   "execution_count": 41,
   "metadata": {},
   "outputs": [
    {
     "name": "stdout",
     "output_type": "stream",
     "text": [
      "1美金和台幣     30.86元\n"
     ]
    }
   ],
   "source": [
    "# 空格\n",
    "print(f\"1美金和台幣{c:10.2f}元\")"
   ]
  },
  {
   "cell_type": "markdown",
   "metadata": {},
   "source": [
    "# 更完整print控制"
   ]
  },
  {
   "cell_type": "code",
   "execution_count": 51,
   "metadata": {},
   "outputs": [
    {
     "name": "stdout",
     "output_type": "stream",
     "text": [
      "(✿ﾟ▽ﾟ)\n"
     ]
    }
   ],
   "source": [
    "egg = \"(✿ﾟ▽ﾟ)\"\n",
    "print(egg)"
   ]
  },
  {
   "cell_type": "markdown",
   "metadata": {},
   "source": [
    "### round1"
   ]
  },
  {
   "cell_type": "code",
   "execution_count": 49,
   "metadata": {},
   "outputs": [
    {
     "name": "stdout",
     "output_type": "stream",
     "text": [
      "ヽ(✿ﾟ▽ﾟ)              ノ\n"
     ]
    }
   ],
   "source": [
    "spam = f\"ヽ{egg:20s}ノ\"\n",
    "print(spam)"
   ]
  },
  {
   "cell_type": "markdown",
   "metadata": {},
   "source": [
    "### round2"
   ]
  },
  {
   "cell_type": "code",
   "execution_count": 48,
   "metadata": {},
   "outputs": [
    {
     "name": "stdout",
     "output_type": "stream",
     "text": [
      "ヽ              (✿ﾟ▽ﾟ)ノ\n"
     ]
    }
   ],
   "source": [
    "spam = f\"ヽ{egg:>20s}ノ\"\n",
    "print(spam)"
   ]
  },
  {
   "cell_type": "markdown",
   "metadata": {},
   "source": [
    "### round3:置中"
   ]
  },
  {
   "cell_type": "code",
   "execution_count": 47,
   "metadata": {},
   "outputs": [
    {
     "name": "stdout",
     "output_type": "stream",
     "text": [
      "ヽ       (✿ﾟ▽ﾟ)       ノ\n"
     ]
    }
   ],
   "source": [
    "spam = f\"ヽ{egg:^20s}ノ\"\n",
    "print(spam)"
   ]
  },
  {
   "cell_type": "markdown",
   "metadata": {},
   "source": [
    "### 印星星"
   ]
  },
  {
   "cell_type": "code",
   "execution_count": 52,
   "metadata": {},
   "outputs": [],
   "source": [
    "level = 5"
   ]
  },
  {
   "cell_type": "code",
   "execution_count": 53,
   "metadata": {},
   "outputs": [
    {
     "name": "stdout",
     "output_type": "stream",
     "text": [
      "          *          \n",
      "         ***         \n",
      "        *****        \n",
      "       *******       \n",
      "      *********      \n"
     ]
    }
   ],
   "source": [
    "for i in range(level):\n",
    "    s = \"*\"*(2*i+1)\n",
    "    print(f\"{s:^21s}\")"
   ]
  },
  {
   "cell_type": "code",
   "execution_count": 54,
   "metadata": {},
   "outputs": [
    {
     "name": "stdout",
     "output_type": "stream",
     "text": [
      "ヽ**************(✿ﾟ▽ﾟ)ノ\n"
     ]
    }
   ],
   "source": [
    "spam = f\"ヽ{egg:*>20s}ノ\"\n",
    "print(spam)"
   ]
  },
  {
   "cell_type": "code",
   "execution_count": 55,
   "metadata": {},
   "outputs": [
    {
     "name": "stdout",
     "output_type": "stream",
     "text": [
      "ヽ*******(✿ﾟ▽ﾟ)*******ノ\n"
     ]
    }
   ],
   "source": [
    "spam = f\"ヽ{egg:*^20s}ノ\"\n",
    "print(spam)"
   ]
  },
  {
   "cell_type": "code",
   "execution_count": 56,
   "metadata": {},
   "outputs": [
    {
     "name": "stdout",
     "output_type": "stream",
     "text": [
      "512\n"
     ]
    }
   ],
   "source": [
    "n = 512\n",
    "\n",
    "spam = f\"{str(n):0>3s}\"\n",
    "print(spam)"
   ]
  },
  {
   "cell_type": "code",
   "execution_count": 61,
   "metadata": {},
   "outputs": [
    {
     "name": "stdout",
     "output_type": "stream",
     "text": [
      "00087\n",
      "087\n"
     ]
    }
   ],
   "source": [
    "n = 87\n",
    "spam = \"000\" + str(n)\n",
    "print(spam)\n",
    "print(spam[-3:])"
   ]
  },
  {
   "cell_type": "markdown",
   "metadata": {},
   "source": [
    "### zfill不足補0"
   ]
  },
  {
   "cell_type": "code",
   "execution_count": 62,
   "metadata": {},
   "outputs": [
    {
     "name": "stdout",
     "output_type": "stream",
     "text": [
      "087\n"
     ]
    }
   ],
   "source": [
    "n = str(87)\n",
    "\n",
    "spam = n.zfill(3)\n",
    "print(spam)"
   ]
  },
  {
   "cell_type": "markdown",
   "metadata": {},
   "source": [
    "# Jupyter Notebook 的display"
   ]
  },
  {
   "cell_type": "code",
   "execution_count": 83,
   "metadata": {},
   "outputs": [],
   "source": [
    "from IPython.display import display, HTML, Markdown, Image, YouTubeVideo"
   ]
  },
  {
   "cell_type": "code",
   "execution_count": 84,
   "metadata": {},
   "outputs": [],
   "source": [
    "md_str = \"#### Test\"\n",
    "\n",
    "md = Markdown(md_str)"
   ]
  },
  {
   "cell_type": "code",
   "execution_count": 85,
   "metadata": {},
   "outputs": [
    {
     "data": {
      "text/markdown": [
       "#### Test"
      ],
      "text/plain": [
       "<IPython.core.display.Markdown object>"
      ]
     },
     "metadata": {},
     "output_type": "display_data"
    }
   ],
   "source": [
    "display(md)"
   ]
  },
  {
   "cell_type": "code",
   "execution_count": 86,
   "metadata": {},
   "outputs": [
    {
     "data": {
      "text/markdown": [
       "#### Test"
      ],
      "text/plain": [
       "<IPython.core.display.Markdown object>"
      ]
     },
     "metadata": {},
     "output_type": "display_data"
    },
    {
     "data": {
      "text/markdown": [
       "#### Test"
      ],
      "text/plain": [
       "<IPython.core.display.Markdown object>"
      ]
     },
     "metadata": {},
     "output_type": "display_data"
    },
    {
     "data": {
      "text/markdown": [
       "#### Test"
      ],
      "text/plain": [
       "<IPython.core.display.Markdown object>"
      ]
     },
     "metadata": {},
     "output_type": "display_data"
    }
   ],
   "source": [
    "for i in range(3):\n",
    "    display(md)"
   ]
  },
  {
   "cell_type": "code",
   "execution_count": 87,
   "metadata": {},
   "outputs": [
    {
     "data": {
      "text/markdown": [
       "### 題目\n",
       "請求因式分解：\n",
       "$$f(x)=x^2+3x+2$$\n"
      ],
      "text/plain": [
       "<IPython.core.display.Markdown object>"
      ]
     },
     "metadata": {},
     "output_type": "display_data"
    }
   ],
   "source": [
    "md_str = '''### 題目\n",
    "請求因式分解：\n",
    "$$f(x)=x^2+3x+2$$\n",
    "'''\n",
    "md = Markdown(md_str)\n",
    "display(md)"
   ]
  },
  {
   "cell_type": "code",
   "execution_count": 68,
   "metadata": {},
   "outputs": [],
   "source": [
    "from numpy.random import randint"
   ]
  },
  {
   "cell_type": "code",
   "execution_count": 69,
   "metadata": {},
   "outputs": [
    {
     "data": {
      "text/plain": [
       "array([3, 3, 1, 7])"
      ]
     },
     "execution_count": 69,
     "metadata": {},
     "output_type": "execute_result"
    }
   ],
   "source": [
    "randint(1, 10, 4)"
   ]
  },
  {
   "cell_type": "code",
   "execution_count": 75,
   "metadata": {},
   "outputs": [
    {
     "data": {
      "text/markdown": [
       "### 請回答下列問題："
      ],
      "text/plain": [
       "<IPython.core.display.Markdown object>"
      ]
     },
     "metadata": {},
     "output_type": "display_data"
    },
    {
     "data": {
      "text/markdown": [
       "$$\\dfrac64 + \\dfrac18 = ?$$"
      ],
      "text/plain": [
       "<IPython.core.display.Markdown object>"
      ]
     },
     "metadata": {},
     "output_type": "display_data"
    }
   ],
   "source": [
    "a, b, c, d = randint(1, 10, 4)\n",
    "display(Markdown(\"### 請回答下列問題：\"))\n",
    "display(Markdown(f\"$$\\dfrac{a}{b} + \\dfrac{c}{d} = ?$$\"))"
   ]
  },
  {
   "cell_type": "code",
   "execution_count": 80,
   "metadata": {},
   "outputs": [
    {
     "name": "stdout",
     "output_type": "stream",
     "text": [
      "0911_week1.ipynb  1002_HW.ipynb     README.md\r\n",
      "0918_week2.ipynb  1002_week4.ipynb  apple.png\r\n",
      "0925_week3.ipynb  1009_week5.ipynb  test.py\r\n"
     ]
    }
   ],
   "source": [
    "%ls"
   ]
  },
  {
   "cell_type": "code",
   "execution_count": 89,
   "metadata": {},
   "outputs": [],
   "source": [
    "apple = Image(\"apple.png\")"
   ]
  },
  {
   "cell_type": "code",
   "execution_count": 90,
   "metadata": {},
   "outputs": [
    {
     "data": {
      "image/png": "[encoded data removed]",
      "text/plain": [
       "<IPython.core.display.Image object>"
      ]
     },
     "metadata": {},
     "output_type": "display_data"
    }
   ],
   "source": [
    "display(apple)"
   ]
  },
  {
   "cell_type": "code",
   "execution_count": 91,
   "metadata": {},
   "outputs": [],
   "source": [
    "myvideo = YouTubeVideo(\"MnC_DZv9jp4\")"
   ]
  },
  {
   "cell_type": "code",
   "execution_count": 92,
   "metadata": {},
   "outputs": [
    {
     "data": {
      "image/jpeg": "[encoded data removed]",
      "text/html": [
       "\n",
       "        <iframe\n",
       "            width=\"400\"\n",
       "            height=\"300\"\n",
       "            src=\"https://www.youtube.com/embed/MnC_DZv9jp4\"\n",
       "            frameborder=\"0\"\n",
       "            allowfullscreen\n",
       "        ></iframe>\n",
       "        "
      ],
      "text/plain": [
       "<IPython.lib.display.YouTubeVideo at 0x11c0fedd8>"
      ]
     },
     "metadata": {},
     "output_type": "display_data"
    }
   ],
   "source": [
    "display(myvideo)"
   ]
  },
  {
   "cell_type": "code",
   "execution_count": 93,
   "metadata": {},
   "outputs": [],
   "source": [
    "html_str = \"<h2>標題</h2>\"\n",
    "egg = HTML(html_str)"
   ]
  },
  {
   "cell_type": "code",
   "execution_count": 94,
   "metadata": {},
   "outputs": [
    {
     "data": {
      "text/html": [
       "<h2>標題</h2>"
      ],
      "text/plain": [
       "<IPython.core.display.HTML object>"
      ]
     },
     "metadata": {},
     "output_type": "display_data"
    }
   ],
   "source": [
    "display(egg)"
   ]
  },
  {
   "cell_type": "code",
   "execution_count": 105,
   "metadata": {},
   "outputs": [],
   "source": [
    "html_str = '<h2 style = \"color:red;\">標題</h2>'"
   ]
  },
  {
   "cell_type": "code",
   "execution_count": 106,
   "metadata": {},
   "outputs": [
    {
     "data": {
      "text/html": [
       "<h2 style = \"color:red;\">標題</h2>"
      ],
      "text/plain": [
       "<IPython.core.display.HTML object>"
      ]
     },
     "metadata": {},
     "output_type": "display_data"
    }
   ],
   "source": [
    "egg = HTML(html_str)\n",
    "display(egg)"
   ]
  },
  {
   "cell_type": "markdown",
   "metadata": {},
   "source": [
    "# 爬蟲"
   ]
  },
  {
   "cell_type": "code",
   "execution_count": null,
   "metadata": {},
   "outputs": [],
   "source": [
    "import  urllib.request\n",
    "from bs4 import BeautifulSoup\n",
    "import csv\n",
    "\n",
    "city_list = [\n",
    "    (\"基隆市\", \"Keelung_City\"),\n",
    "    (\"台北市\", \"Taipei_City\"),\n",
    "    (\"新北市\", \"New_Taipei_City\"),\n",
    "    (\"桃園市\", \"Taoyuan_City\"),\n",
    "    (\"新竹市\", \"Hsinchu_City\"),\n",
    "    (\"新竹縣\", \"Hsinchu_County\"),\n",
    "    (\"苗栗縣\", \"Miaoli_County\"),\n",
    "    (\"台中市\", \"Taichung_City\"),\n",
    "    (\"彰化縣\", \"Changhua_County\"),\n",
    "    (\"南投縣\", \"Nantou_County\"),\n",
    "    (\"雲林縣\", \"Yunlin_County\"),\n",
    "    (\"嘉義市\", \"Chiayi_City\"),\n",
    "    (\"嘉義縣\", \"Chiayi_County\"),\n",
    "    (\"宜蘭縣\", \"Yilan_County\"),\n",
    "    (\"花蓮縣\", \"Hualien_County\"),\n",
    "    (\"台東縣\", \"Taitung_County\"),\n",
    "    (\"台南市\", \"Tainan_City\"),\n",
    "    (\"高雄市\", \"Kaohsiung_City\"),\n",
    "    (\"屏東縣\", \"Pingtung_County\"),\n",
    "    (\"連江縣\", \"Lienchiang_County\"),\n",
    "    (\"金門縣\", \"Kinmen_County\"),\n",
    "    (\"澎湖縣\", \"Penghu_County\"),\n",
    "]\n",
    "\n",
    "def time1():\n",
    "    time = ''\n",
    "    temp = ''\n",
    "    rain = ''\n",
    "    for i in range(4):\n",
    "        time += item[i] + \" \"\n",
    "    print(time)\n",
    "\n",
    "    print('氣溫：', end=\"\")\n",
    "    for i in range(4, 7):\n",
    "        temp += item[i] + \" \"\n",
    "    print(temp)\n",
    "\n",
    "    print(\"降雨機率：\", end=\"\")\n",
    "    for i in range(8, 10):\n",
    "        rain += item[i] + \" \"\n",
    "    print(rain, end=\"\\n\\n\")\n",
    "    \n",
    "def time2():\n",
    "    time = ''\n",
    "    temp = ''\n",
    "    rain = ''\n",
    "    for i in range(10, 14):\n",
    "        time += item[i] + \" \"\n",
    "    print(time)\n",
    "\n",
    "    print('氣溫：', end=\"\")\n",
    "    for i in range(14, 17):\n",
    "        temp += item[i] + \" \"\n",
    "    print(temp)\n",
    "\n",
    "    print(\"降雨機率：\", end=\"\")\n",
    "    for i in range(18, 20):\n",
    "        rain += item[i] + \" \"\n",
    "    print(rain, end=\"\\n\\n\")\n",
    "    \n",
    "def time3():\n",
    "    time = ''\n",
    "    temp = ''\n",
    "    rain = ''\n",
    "    for i in range(20, 24):\n",
    "        time += item[i] + \" \"\n",
    "    print(time)\n",
    "\n",
    "    print('氣溫：', end=\"\")\n",
    "    for i in range(24, 27):\n",
    "        temp += item[i] + \" \"\n",
    "    print(temp)\n",
    "\n",
    "    print(\"降雨機率：\", end=\"\")\n",
    "    for i in range(28, 30):\n",
    "        rain += item[i] + \" \"\n",
    "    print(rain, end=\"\\n\\n\")\n",
    "\n",
    "data = []\n",
    "tar = str(input())\n",
    "\n",
    "if '臺' in tar:\n",
    "    tar = tar.replace('臺', '台')\n",
    "    \n",
    "for city in city_list:\n",
    "    if tar in city[0]:\n",
    "        data.append([city[0], 'http://www.cwb.gov.tw/V7/forecast/taiwan/' + city[1] + '.htm'])\n",
    "        \n",
    "for city in data:\n",
    "    print(city[0])\n",
    "    raw = urllib.request.urlopen(city[1])\n",
    "    soup = BeautifulSoup(raw, \"lxml\")\n",
    "    item = soup.find('tbody').text.strip().replace(\"\\n\\n\\n\", \"\\n\").split()\n",
    "    \n",
    "    time1()\n",
    "    time2()\n",
    "    time3()"
   ]
  }
 ],
 "metadata": {
  "kernelspec": {
   "display_name": "Python 3",
   "language": "python",
   "name": "python3"
  },
  "language_info": {
   "codemirror_mode": {
    "name": "ipython",
    "version": 3
   },
   "file_extension": ".py",
   "mimetype": "text/x-python",
   "name": "python",
   "nbconvert_exporter": "python",
   "pygments_lexer": "ipython3",
   "version": "3.7.1"
  }
 },
 "nbformat": 4,
 "nbformat_minor": 2
}
