{
 "cells": [
  {
   "cell_type": "code",
   "execution_count": 1,
   "metadata": {},
   "outputs": [
    {
     "name": "stdout",
     "output_type": "stream",
     "text": [
      "env: KERAS_BACKEND=tensorflow\n"
     ]
    },
    {
     "name": "stderr",
     "output_type": "stream",
     "text": [
      "Using TensorFlow backend.\n"
     ]
    }
   ],
   "source": [
    "%matplotlib inline\n",
    "%env KERAS_BACKEND=tensorflow\n",
    "\n",
    "# 標準數據分析、畫圖套件\n",
    "import numpy as np\n",
    "import matplotlib.pyplot as plt\n",
    "\n",
    "# 神經網路方面\n",
    "from keras.datasets import mnist\n",
    "from keras.utils import np_utils\n",
    "from keras.models import Sequential\n",
    "from keras.layers import Dense, Flatten\n",
    "from keras.optimizers import Adam\n",
    "\n",
    "# 互動設計用\n",
    "from ipywidgets import interact_manual"
   ]
  },
  {
   "cell_type": "code",
   "execution_count": 2,
   "metadata": {},
   "outputs": [],
   "source": [
    "(x_train, y_train), (x_test, y_test) = mnist.load_data()"
   ]
  },
  {
   "cell_type": "code",
   "execution_count": 3,
   "metadata": {},
   "outputs": [
    {
     "name": "stdout",
     "output_type": "stream",
     "text": [
      "訓練資料總筆數：60000, 測試資料總筆數：10000\n"
     ]
    }
   ],
   "source": [
    "print(\"訓練資料總筆數：\" + str(len(x_train)) + \", 測試資料總筆數：\" + str(len(x_test)))"
   ]
  },
  {
   "cell_type": "code",
   "execution_count": 4,
   "metadata": {},
   "outputs": [],
   "source": [
    "x_train = x_train/255\n",
    "x_test = x_test/255"
   ]
  },
  {
   "cell_type": "code",
   "execution_count": 5,
   "metadata": {},
   "outputs": [],
   "source": [
    "y_train = np_utils.to_categorical(y_train, 10)\n",
    "y_test = np_utils.to_categorical(y_test, 10)"
   ]
  },
  {
   "cell_type": "code",
   "execution_count": 6,
   "metadata": {},
   "outputs": [],
   "source": [
    "# 開一台空白的學習機\n",
    "model = Sequential()"
   ]
  },
  {
   "cell_type": "code",
   "execution_count": 7,
   "metadata": {},
   "outputs": [],
   "source": [
    "model.add(Flatten(input_shape = (28, 28)))"
   ]
  },
  {
   "cell_type": "code",
   "execution_count": 8,
   "metadata": {},
   "outputs": [],
   "source": [
    "#第一層神經元\n",
    "model.add(Dense(30, input_dim = 784, activation = 'relu'))"
   ]
  },
  {
   "cell_type": "code",
   "execution_count": 9,
   "metadata": {},
   "outputs": [],
   "source": [
    "#第二層神經元\n",
    "model.add(Dense(45, activation = 'relu'))"
   ]
  },
  {
   "cell_type": "code",
   "execution_count": 10,
   "metadata": {},
   "outputs": [],
   "source": [
    "#第三層神經元\n",
    "model.add(Dense(50, activation = 'relu'))"
   ]
  },
  {
   "cell_type": "code",
   "execution_count": 11,
   "metadata": {},
   "outputs": [],
   "source": [
    "#第四層神經元\n",
    "model.add(Dense(20, activation = 'relu'))"
   ]
  },
  {
   "cell_type": "code",
   "execution_count": 12,
   "metadata": {},
   "outputs": [],
   "source": [
    "#輸入層 輸出固定為0-9\n",
    "model.add(Dense(10, activation = 'softmax'))"
   ]
  },
  {
   "cell_type": "code",
   "execution_count": 13,
   "metadata": {},
   "outputs": [],
   "source": [
    "model.compile(loss='mse', optimizer=\"adam\", metrics=['accuracy'])"
   ]
  },
  {
   "cell_type": "code",
   "execution_count": 14,
   "metadata": {},
   "outputs": [
    {
     "name": "stdout",
     "output_type": "stream",
     "text": [
      "Model: \"sequential_1\"\n",
      "_________________________________________________________________\n",
      "Layer (type)                 Output Shape              Param #   \n",
      "=================================================================\n",
      "flatten_1 (Flatten)          (None, 784)               0         \n",
      "_________________________________________________________________\n",
      "dense_1 (Dense)              (None, 30)                23550     \n",
      "_________________________________________________________________\n",
      "dense_2 (Dense)              (None, 45)                1395      \n",
      "_________________________________________________________________\n",
      "dense_3 (Dense)              (None, 50)                2300      \n",
      "_________________________________________________________________\n",
      "dense_4 (Dense)              (None, 20)                1020      \n",
      "_________________________________________________________________\n",
      "dense_5 (Dense)              (None, 10)                210       \n",
      "=================================================================\n",
      "Total params: 28,475\n",
      "Trainable params: 28,475\n",
      "Non-trainable params: 0\n",
      "_________________________________________________________________\n"
     ]
    }
   ],
   "source": [
    "model.summary()"
   ]
  },
  {
   "cell_type": "code",
   "execution_count": 15,
   "metadata": {},
   "outputs": [
    {
     "name": "stdout",
     "output_type": "stream",
     "text": [
      "Epoch 1/25\n",
      "60000/60000 [==============================] - 1s 23us/step - loss: 0.0226 - accuracy: 0.8414\n",
      "Epoch 2/25\n",
      "60000/60000 [==============================] - 1s 17us/step - loss: 0.0096 - accuracy: 0.9380\n",
      "Epoch 3/25\n",
      "60000/60000 [==============================] - 1s 17us/step - loss: 0.0080 - accuracy: 0.9486\n",
      "Epoch 4/25\n",
      "60000/60000 [==============================] - 1s 17us/step - loss: 0.0069 - accuracy: 0.9557\n",
      "Epoch 5/25\n",
      "60000/60000 [==============================] - 1s 18us/step - loss: 0.0062 - accuracy: 0.9610\n",
      "Epoch 6/25\n",
      "60000/60000 [==============================] - 1s 17us/step - loss: 0.0055 - accuracy: 0.9652\n",
      "Epoch 7/25\n",
      "60000/60000 [==============================] - 1s 18us/step - loss: 0.0052 - accuracy: 0.9671\n",
      "Epoch 8/25\n",
      "60000/60000 [==============================] - 1s 17us/step - loss: 0.0047 - accuracy: 0.9702\n",
      "Epoch 9/25\n",
      "60000/60000 [==============================] - 1s 17us/step - loss: 0.0043 - accuracy: 0.9733\n",
      "Epoch 10/25\n",
      "60000/60000 [==============================] - 1s 18us/step - loss: 0.0041 - accuracy: 0.9749\n",
      "Epoch 11/25\n",
      "60000/60000 [==============================] - 1s 18us/step - loss: 0.0038 - accuracy: 0.9763\n",
      "Epoch 12/25\n",
      "60000/60000 [==============================] - 1s 21us/step - loss: 0.0037 - accuracy: 0.9766\n",
      "Epoch 13/25\n",
      "60000/60000 [==============================] - 1s 18us/step - loss: 0.0035 - accuracy: 0.9785\n",
      "Epoch 14/25\n",
      "60000/60000 [==============================] - 1s 17us/step - loss: 0.0033 - accuracy: 0.9796\n",
      "Epoch 15/25\n",
      "60000/60000 [==============================] - 1s 18us/step - loss: 0.0033 - accuracy: 0.9800\n",
      "Epoch 16/25\n",
      "60000/60000 [==============================] - 1s 18us/step - loss: 0.0030 - accuracy: 0.9816\n",
      "Epoch 17/25\n",
      "60000/60000 [==============================] - 1s 17us/step - loss: 0.0029 - accuracy: 0.9825\n",
      "Epoch 18/25\n",
      "60000/60000 [==============================] - 1s 17us/step - loss: 0.0029 - accuracy: 0.9820\n",
      "Epoch 19/25\n",
      "60000/60000 [==============================] - 1s 18us/step - loss: 0.0028 - accuracy: 0.9830\n",
      "Epoch 20/25\n",
      "60000/60000 [==============================] - 1s 19us/step - loss: 0.0027 - accuracy: 0.9838\n",
      "Epoch 21/25\n",
      "60000/60000 [==============================] - 1s 18us/step - loss: 0.0025 - accuracy: 0.9850\n",
      "Epoch 22/25\n",
      "60000/60000 [==============================] - 1s 18us/step - loss: 0.0026 - accuracy: 0.9840\n",
      "Epoch 23/25\n",
      "60000/60000 [==============================] - 1s 18us/step - loss: 0.0025 - accuracy: 0.9845\n",
      "Epoch 24/25\n",
      "60000/60000 [==============================] - 1s 18us/step - loss: 0.0024 - accuracy: 0.9856\n",
      "Epoch 25/25\n",
      "60000/60000 [==============================] - 1s 18us/step - loss: 0.0024 - accuracy: 0.9855 0s - loss: 0.0\n"
     ]
    },
    {
     "data": {
      "text/plain": [
       "<keras.callbacks.callbacks.History at 0x1498ac5f8>"
      ]
     },
     "execution_count": 15,
     "metadata": {},
     "output_type": "execute_result"
    }
   ],
   "source": [
    "model.fit(x_train, y_train, batch_size = 120, epochs=25)"
   ]
  },
  {
   "cell_type": "code",
   "execution_count": 16,
   "metadata": {},
   "outputs": [],
   "source": [
    "predict = model.predict_classes(x_test)"
   ]
  },
  {
   "cell_type": "code",
   "execution_count": 19,
   "metadata": {},
   "outputs": [],
   "source": [
    "def test(測試編號):\n",
    "    plt.imshow(x_test[測試編號].reshape(28,28), cmap='Greys')\n",
    "    print('神經網路判斷為:', predict[測試編號])"
   ]
  },
  {
   "cell_type": "code",
   "execution_count": 20,
   "metadata": {},
   "outputs": [
    {
     "data": {
      "application/vnd.jupyter.widget-view+json": {
       "model_id": "d3e250432c2342f3a22798fdf11e4fe2",
       "version_major": 2,
       "version_minor": 0
      },
      "text/plain": [
       "interactive(children=(IntSlider(value=4999, description='測試編號', max=9999), Button(description='Run Interact', …"
      ]
     },
     "metadata": {},
     "output_type": "display_data"
    },
    {
     "data": {
      "text/plain": [
       "<function __main__.test(測試編號)>"
      ]
     },
     "execution_count": 20,
     "metadata": {},
     "output_type": "execute_result"
    }
   ],
   "source": [
    "interact_manual(test, 測試編號=(0, 9999))"
   ]
  },
  {
   "cell_type": "code",
   "execution_count": 21,
   "metadata": {},
   "outputs": [
    {
     "name": "stdout",
     "output_type": "stream",
     "text": [
      "10000/10000 [==============================] - 0s 28us/step\n"
     ]
    }
   ],
   "source": [
    "score = model.evaluate(x_test, y_test)"
   ]
  },
  {
   "cell_type": "code",
   "execution_count": 22,
   "metadata": {},
   "outputs": [
    {
     "name": "stdout",
     "output_type": "stream",
     "text": [
      "loss: 0.005103737514135879\n",
      "正確率 0.9682999849319458\n"
     ]
    }
   ],
   "source": [
    "print('loss:', score[0])\n",
    "print('正確率', score[1])"
   ]
  }
 ],
 "metadata": {
  "kernelspec": {
   "display_name": "Python 3",
   "language": "python",
   "name": "python3"
  },
  "language_info": {
   "codemirror_mode": {
    "name": "ipython",
    "version": 3
   },
   "file_extension": ".py",
   "mimetype": "text/x-python",
   "name": "python",
   "nbconvert_exporter": "python",
   "pygments_lexer": "ipython3",
   "version": "3.7.1"
  }
 },
 "nbformat": 4,
 "nbformat_minor": 2
}
