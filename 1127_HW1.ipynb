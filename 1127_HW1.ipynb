{
 "cells": [
  {
   "cell_type": "markdown",
   "metadata": {},
   "source": [
    "# 幾A幾B"
   ]
  },
  {
   "cell_type": "code",
   "execution_count": 1,
   "metadata": {},
   "outputs": [
    {
     "name": "stdout",
     "output_type": "stream",
     "text": [
      "=====歡迎來到猜數字遊戲=====\n",
      "每猜一個數，會根據這個數字給出幾A幾B\n",
      "其中A前面的數字表示位置正確的數的個數\n",
      "而B前的數字表示數字正確而位置不對的數的個數\n",
      "請輸入四位不重複的數字(輸入Q放棄遊戲)1234\n",
      "第1次\n",
      "你猜的數字為：1234 1A1B\n",
      "請輸入四位不重複的數字(輸入Q放棄遊戲)3456\n",
      "第2次\n",
      "你猜的數字為：3456 1A2B\n",
      "請輸入四位不重複的數字(輸入Q放棄遊戲)4567\n",
      "第3次\n",
      "你猜的數字為：4567 1A1B\n",
      "請輸入四位不重複的數字(輸入Q放棄遊戲)3468\n",
      "第4次\n",
      "你猜的數字為：3468 2A0B\n",
      "請輸入四位不重複的數字(輸入Q放棄遊戲)2469\n",
      "第5次\n",
      "你猜的數字為：2469 1A1B\n",
      "請輸入四位不重複的數字(輸入Q放棄遊戲)3265\n",
      "第6次\n",
      "你猜的數字為：3265 4A0B\n",
      "你猜對了！答案為：3265\n"
     ]
    }
   ],
   "source": [
    "import random\n",
    "\n",
    "#選四位數字 數字不可重複\n",
    "def pickNum():\n",
    "    digit = ('0123456789')\n",
    "    ans = \"\".join(random.sample(digit, 4))\n",
    "    return ans\n",
    "\n",
    "#計數器\n",
    "def timer(times):\n",
    "    times += 1\n",
    "    return times\n",
    "\n",
    "#比對數字\n",
    "def comparison(guess, ans):\n",
    "    a, b = 0, 0\n",
    "    for i in range(4):\n",
    "        if guess[i] == ans[i]:\n",
    "            a += 1\n",
    "        elif guess[i] in ans:\n",
    "            b += 1\n",
    "    return (a,b)\n",
    "    \n",
    "#猜數字遊戲\n",
    "def guessNumGame():\n",
    "    ans = pickNum()\n",
    "    times = 0\n",
    "    print(\"=====歡迎來到猜數字遊戲=====\")\n",
    "    print(\"每猜一個數，會根據這個數字給出幾A幾B\")\n",
    "    print(\"其中A前面的數字表示位置正確的數的個數\")\n",
    "    print(\"而B前的數字表示數字正確而位置不對的數的個數\")\n",
    "    while True:\n",
    "        guess = input(\"請輸入四位不重複的數字(輸入Q放棄遊戲)\")\n",
    "        if len(guess) == 4 and guess.isdecimal():\n",
    "            (a, b) = comparison(guess, ans)\n",
    "            times = timer(times)\n",
    "            print(\"第\" + str(times) + \"次\")\n",
    "            print(\"你猜的數字為：\" + str(guess) + \" \" + str(a) + \"A\" + str(b) + \"B\")\n",
    "            if guess == ans:\n",
    "                print(\"你猜對了！答案為：\" + str(ans))\n",
    "                break\n",
    "        elif guess == \"Q\" or guess == \"q\":\n",
    "            print(\"好可惜！你已放棄遊戲！\")\n",
    "            break\n",
    "        else:\n",
    "            print(\"輸入錯誤，請重新輸入\")  \n",
    "    \n",
    "guessNumGame()\n"
   ]
  },
  {
   "cell_type": "code",
   "execution_count": null,
   "metadata": {},
   "outputs": [],
   "source": []
  }
 ],
 "metadata": {
  "kernelspec": {
   "display_name": "Python 3",
   "language": "python",
   "name": "python3"
  },
  "language_info": {
   "codemirror_mode": {
    "name": "ipython",
    "version": 3
   },
   "file_extension": ".py",
   "mimetype": "text/x-python",
   "name": "python",
   "nbconvert_exporter": "python",
   "pygments_lexer": "ipython3",
   "version": "3.7.1"
  }
 },
 "nbformat": 4,
 "nbformat_minor": 2
}
