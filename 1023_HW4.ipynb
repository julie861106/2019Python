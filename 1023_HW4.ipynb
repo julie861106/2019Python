{
 "cells": [
  {
   "cell_type": "code",
   "execution_count": 1,
   "metadata": {},
   "outputs": [],
   "source": [
    "%matplotlib inline\n",
    "import numpy as np\n",
    "import matplotlib.pyplot as plt\n",
    "import pandas as pd\n",
    "from ipywidgets import interact\n",
    "plt.style.use(\"fivethirtyeight\")"
   ]
  },
  {
   "cell_type": "markdown",
   "metadata": {},
   "source": [
    "# 模擬時鐘"
   ]
  },
  {
   "cell_type": "code",
   "execution_count": 2,
   "metadata": {},
   "outputs": [
    {
     "data": {
      "application/vnd.jupyter.widget-view+json": {
       "model_id": "96d843a78139498b90205732c02f6ba1",
       "version_major": 2,
       "version_minor": 0
      },
      "text/plain": [
       "interactive(children=(FloatSlider(value=100.0, description='a', max=200.0), Output()), _dom_classes=('widget-i…"
      ]
     },
     "metadata": {},
     "output_type": "display_data"
    },
    {
     "data": {
      "text/plain": [
       "<function __main__.clock(a)>"
      ]
     },
     "execution_count": 2,
     "metadata": {},
     "output_type": "execute_result"
    }
   ],
   "source": [
    "def clock(a):\n",
    "    plt.figure(figsize=(5,5))\n",
    "    #hour\n",
    "    theta=0.01*np.pi*a\n",
    "    x=np.cos(theta)\n",
    "    y=np.sin(theta)\n",
    "    plt.plot([x,0],[y,0])\n",
    "    #min\n",
    "    theta=0.12*np.pi*a\n",
    "    x=2*np.cos(theta)\n",
    "    y=2*np.sin(theta)\n",
    "    plt.plot([x,0],[y,0])\n",
    "    #circle\n",
    "    t = np.linspace(-10,10,100)\n",
    "    x1=3*np.cos(t)\n",
    "    y1=3*np.sin(t)\n",
    "    plt.plot(x1,y1)\n",
    "interact(clock, a=(0,200.))"
   ]
  },
  {
   "cell_type": "code",
   "execution_count": null,
   "metadata": {},
   "outputs": [],
   "source": []
  }
 ],
 "metadata": {
  "kernelspec": {
   "display_name": "Python 3",
   "language": "python",
   "name": "python3"
  },
  "language_info": {
   "codemirror_mode": {
    "name": "ipython",
    "version": 3
   },
   "file_extension": ".py",
   "mimetype": "text/x-python",
   "name": "python",
   "nbconvert_exporter": "python",
   "pygments_lexer": "ipython3",
   "version": "3.7.1"
  }
 },
 "nbformat": 4,
 "nbformat_minor": 2
}
