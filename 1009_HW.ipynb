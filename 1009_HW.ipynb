{
 "cells": [
  {
   "cell_type": "code",
   "execution_count": 1,
   "metadata": {},
   "outputs": [],
   "source": [
    "%matplotlib inline\n",
    "import numpy as np\n",
    "import matplotlib.pyplot as plt\n",
    "from ipywidgets import interact"
   ]
  },
  {
   "cell_type": "markdown",
   "metadata": {},
   "source": [
    "# 記帳"
   ]
  },
  {
   "cell_type": "code",
   "execution_count": 2,
   "metadata": {},
   "outputs": [
    {
     "name": "stdout",
     "output_type": "stream",
     "text": [
      "請輸入初始存款1000\n",
      "輸入收入請按D，輸入支出請按E，離開請按ＱE\n",
      "請輸入支出金額1100\n",
      "錢不夠喔！\n",
      "餘額為1000\n",
      "輸入收入請按D，輸入支出請按E，離開請按ＱD\n",
      "請輸入收入金額500\n",
      "餘額為1500\n",
      "輸入收入請按D，輸入支出請按E，離開請按ＱE\n",
      "請輸入支出金額1100\n",
      "餘額為400\n",
      "輸入收入請按D，輸入支出請按E，離開請按ＱQ\n",
      "離開\n"
     ]
    }
   ],
   "source": [
    "init=input(\"請輸入初始存款\")\n",
    "money=int(init)\n",
    "\n",
    "while money:\n",
    "    mode=input(\"輸入收入請按D，輸入支出請按E，離開請按Ｑ\")\n",
    "       \n",
    "    if mode==\"D\" or mode==\"d\":\n",
    "        i = input(\"請輸入收入金額\")\n",
    "        money += int(i)\n",
    "    if mode==\"E\" or mode==\"e\":\n",
    "        i = input(\"請輸入支出金額\")\n",
    "        if int(i)>money:\n",
    "            print(\"錢不夠喔！\")\n",
    "        else:\n",
    "            money -= int(i)\n",
    "    if mode==\"Q\" or mode==\"q\":\n",
    "        print(\"離開\")\n",
    "        break\n",
    "    print(\"餘額為\" + str(money))"
   ]
  },
  {
   "cell_type": "markdown",
   "metadata": {},
   "source": [
    "# 資料排序"
   ]
  },
  {
   "cell_type": "code",
   "execution_count": 24,
   "metadata": {},
   "outputs": [],
   "source": [
    "list1 = []\n",
    "for i in range(10):\n",
    "    list1.append(np.random.randint(1, 1000))"
   ]
  },
  {
   "cell_type": "code",
   "execution_count": 25,
   "metadata": {},
   "outputs": [
    {
     "name": "stdout",
     "output_type": "stream",
     "text": [
      "原資料[715, 843, 121, 636, 314, 261, 711, 640, 150, 574]\n",
      "排序後資料[121, 150, 261, 314, 574, 636, 640, 711, 715, 843]\n"
     ]
    }
   ],
   "source": [
    "print(f\"原資料{list1}\")\n",
    "list1.sort();\n",
    "print(f\"排序後資料{list1}\")"
   ]
  },
  {
   "cell_type": "markdown",
   "metadata": {},
   "source": [
    "# 互動式標題顏色變換"
   ]
  },
  {
   "cell_type": "code",
   "execution_count": 26,
   "metadata": {},
   "outputs": [],
   "source": [
    "from IPython.display import display, HTML"
   ]
  },
  {
   "cell_type": "code",
   "execution_count": 39,
   "metadata": {},
   "outputs": [
    {
     "data": {
      "application/vnd.jupyter.widget-view+json": {
       "model_id": "d08d79308f9141bf8215c579fe518301",
       "version_major": 2,
       "version_minor": 0
      },
      "text/plain": [
       "interactive(children=(Dropdown(description='color', options=('red', 'blue', 'yellow'), value='red'), Output())…"
      ]
     },
     "metadata": {},
     "output_type": "display_data"
    },
    {
     "data": {
      "text/plain": [
       "<function __main__.f(color)>"
      ]
     },
     "execution_count": 39,
     "metadata": {},
     "output_type": "execute_result"
    }
   ],
   "source": [
    "def f(color):\n",
    "    html_str = f'<h2 style = \"color:{color};\">標題顏色變換</h2>'\n",
    "    head = HTML(html_str)\n",
    "    display(head)\n",
    "interact(f, color = [\"red\", \"blue\", \"yellow\"])"
   ]
  },
  {
   "cell_type": "markdown",
   "metadata": {},
   "source": [
    "# 互動式計算PV"
   ]
  },
  {
   "cell_type": "code",
   "execution_count": 7,
   "metadata": {},
   "outputs": [
    {
     "name": "stdout",
     "output_type": "stream",
     "text": [
      "請輸入FV：1000\n",
      "請輸入期數：3\n"
     ]
    }
   ],
   "source": [
    "fv = float(input(\"請輸入FV：\"))\n",
    "n = int(input(\"請輸入期數：\"))\n",
    "def pv(r):\n",
    "    pv = fv/(1+r)**n\n",
    "    print(f\"n = {n}\\nPV = {pv:.2f}\")"
   ]
  },
  {
   "cell_type": "code",
   "execution_count": 8,
   "metadata": {},
   "outputs": [
    {
     "data": {
      "application/vnd.jupyter.widget-view+json": {
       "model_id": "93908eff867a41099c6898e362399720",
       "version_major": 2,
       "version_minor": 0
      },
      "text/plain": [
       "interactive(children=(FloatSlider(value=0.0, description='r', max=1.0, step=0.01), Output()), _dom_classes=('w…"
      ]
     },
     "metadata": {},
     "output_type": "display_data"
    },
    {
     "data": {
      "text/plain": [
       "<function __main__.pv(r)>"
      ]
     },
     "execution_count": 8,
     "metadata": {},
     "output_type": "execute_result"
    }
   ],
   "source": [
    "interact(pv, r = (0, 1, 0.01))"
   ]
  }
 ],
 "metadata": {
  "kernelspec": {
   "display_name": "Python 3",
   "language": "python",
   "name": "python3"
  },
  "language_info": {
   "codemirror_mode": {
    "name": "ipython",
    "version": 3
   },
   "file_extension": ".py",
   "mimetype": "text/x-python",
   "name": "python",
   "nbconvert_exporter": "python",
   "pygments_lexer": "ipython3",
   "version": "3.7.1"
  }
 },
 "nbformat": 4,
 "nbformat_minor": 2
}
