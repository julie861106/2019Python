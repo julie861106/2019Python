{
 "cells": [
  {
   "cell_type": "markdown",
   "metadata": {},
   "source": [
    "# 記帳"
   ]
  },
  {
   "cell_type": "code",
   "execution_count": 1,
   "metadata": {},
   "outputs": [
    {
     "name": "stdout",
     "output_type": "stream",
     "text": [
      "請輸入初始存款1000\n",
      "輸入收入請按D，輸入支出請按E，離開請按ＱD\n",
      "請輸入收入金額500\n",
      "餘額為1500\n",
      "輸入收入請按D，輸入支出請按E，離開請按ＱE\n",
      "請輸入支出金額200\n",
      "餘額為1300\n",
      "輸入收入請按D，輸入支出請按E，離開請按ＱE\n",
      "請輸入支出金額1500\n",
      "錢不夠喔！\n",
      "餘額為1300\n",
      "輸入收入請按D，輸入支出請按E，離開請按ＱQ\n",
      "離開\n"
     ]
    }
   ],
   "source": [
    "init=input(\"請輸入初始存款\")\n",
    "money=int(init)\n",
    "\n",
    "while money:\n",
    "    mode=input(\"輸入收入請按D，輸入支出請按E，離開請按Ｑ\")\n",
    "       \n",
    "    if mode==\"D\" or mode==\"d\":\n",
    "        i = input(\"請輸入收入金額\")\n",
    "        money += int(i)\n",
    "    if mode==\"E\" or mode==\"e\":\n",
    "        i = input(\"請輸入支出金額\")\n",
    "        if int(i)>money:\n",
    "            print(\"錢不夠喔！\")\n",
    "        else:\n",
    "            money -= int(i)\n",
    "    if mode==\"Q\" or mode==\"q\":\n",
    "        print(\"離開\")\n",
    "        break\n",
    "    print(\"餘額為\" + str(money))"
   ]
  },
  {
   "cell_type": "code",
   "execution_count": null,
   "metadata": {},
   "outputs": [],
   "source": []
  }
 ],
 "metadata": {
  "kernelspec": {
   "display_name": "Python 3",
   "language": "python",
   "name": "python3"
  },
  "language_info": {
   "codemirror_mode": {
    "name": "ipython",
    "version": 3
   },
   "file_extension": ".py",
   "mimetype": "text/x-python",
   "name": "python",
   "nbconvert_exporter": "python",
   "pygments_lexer": "ipython3",
   "version": "3.7.1"
  }
 },
 "nbformat": 4,
 "nbformat_minor": 2
}
