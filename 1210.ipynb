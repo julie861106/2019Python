{
 "cells": [
  {
   "cell_type": "markdown",
   "metadata": {},
   "source": [
    "## Dcard 爬蟲"
   ]
  },
  {
   "cell_type": "code",
   "execution_count": 2,
   "metadata": {},
   "outputs": [],
   "source": [
    "import pandas as pd\n",
    "import requests\n",
    "from requests_html import HTML\n",
    "import re"
   ]
  },
  {
   "cell_type": "markdown",
   "metadata": {},
   "source": [
    "### 初步檢視抓到的資料結構"
   ]
  },
  {
   "cell_type": "code",
   "execution_count": 3,
   "metadata": {},
   "outputs": [
    {
     "data": {
      "text/plain": [
       "{'id': 232760457,\n",
       " 'title': '尋找政大失物！',\n",
       " 'content': '有人可以幫我尋找我的失物嗎\\n我找了很久一直也找不到QaQ\\nhttps://i.imgur.com/1SJeHMY.jpg\\nhttps://i.imgur.com/FPx4IQx.jpg',\n",
       " 'excerpt': '有人可以幫我尋找我的失物嗎，我找了很久一直也找不到QaQ',\n",
       " 'anonymousSchool': False,\n",
       " 'anonymousDepartment': False,\n",
       " 'pinned': False,\n",
       " 'forumId': 'caf9487a-1994-494d-81f2-7950438e7bef',\n",
       " 'replyId': None,\n",
       " 'createdAt': '2019-12-25T15:43:01.798Z',\n",
       " 'updatedAt': '2019-12-25T15:43:49.745Z',\n",
       " 'commentCount': 16,\n",
       " 'likeCount': 48,\n",
       " 'tags': [],\n",
       " 'topics': ['失物招領', '政大', '聖誕節', '脫魯', '政治大學'],\n",
       " 'supportedReactions': None,\n",
       " 'withNickname': False,\n",
       " 'reportReason': '',\n",
       " 'hiddenByAuthor': False,\n",
       " 'meta': {'layout': 'classic'},\n",
       " 'forumName': '政治大學',\n",
       " 'forumAlias': 'nccu',\n",
       " 'school': '國立政治大學',\n",
       " 'department': '經濟學系',\n",
       " 'replyTitle': None,\n",
       " 'gender': 'M',\n",
       " 'personaSubscriptable': False,\n",
       " 'reactions': [{'id': '286f599c-f86a-4932-82f0-f5a06f1eca03', 'count': 38},\n",
       "  {'id': 'e8e6bc5d-41b0-4129-b134-97507523d7ff', 'count': 5},\n",
       "  {'id': '514c2569-fd53-4d9d-a415-bf0f88e7329f', 'count': 4},\n",
       "  {'id': 'aa0d425f-d530-4478-9a77-fe3aedc79eea', 'count': 1}],\n",
       " 'hidden': False,\n",
       " 'customStyle': None,\n",
       " 'isSuspiciousAccount': False,\n",
       " 'layout': 'classic',\n",
       " 'withImages': True,\n",
       " 'withVideos': False,\n",
       " 'media': [{'url': 'https://i.imgur.com/1SJeHMY.jpg'},\n",
       "  {'url': 'https://i.imgur.com/FPx4IQx.jpg'}],\n",
       " 'reportReasonText': '',\n",
       " 'mediaMeta': [{'id': 'e3768bf8-8963-448f-af76-8ae1bf298032',\n",
       "   'url': 'https://i.imgur.com/1SJeHMYl.jpg',\n",
       "   'normalizedUrl': 'https://i.imgur.com/1SJeHMYl.jpg',\n",
       "   'thumbnail': 'https://i.imgur.com/1SJeHMYl.jpg',\n",
       "   'type': 'image/thumbnail',\n",
       "   'tags': ['ANNOTATED'],\n",
       "   'createdAt': '2019-12-25T15:43:01.798Z',\n",
       "   'updatedAt': '2019-12-25T15:43:49.745Z'},\n",
       "  {'id': 'e3768bf8-8963-448f-af76-8ae1bf298032',\n",
       "   'url': 'https://i.imgur.com/1SJeHMY.jpg',\n",
       "   'normalizedUrl': 'https://imgur.com/1SJeHMY',\n",
       "   'thumbnail': 'https://i.imgur.com/1SJeHMYl.jpg',\n",
       "   'type': 'image/imgur',\n",
       "   'tags': ['ANNOTATED'],\n",
       "   'createdAt': '2019-12-25T15:43:01.798Z',\n",
       "   'updatedAt': '2019-12-25T15:43:49.745Z'},\n",
       "  {'id': 'bf5bd75c-b1d6-4cac-b874-6e25d2457ec6',\n",
       "   'url': 'https://i.imgur.com/FPx4IQx.jpg',\n",
       "   'normalizedUrl': 'https://imgur.com/FPx4IQx',\n",
       "   'thumbnail': 'https://i.imgur.com/FPx4IQxl.jpg',\n",
       "   'type': 'image/imgur',\n",
       "   'tags': ['ANNOTATED'],\n",
       "   'createdAt': '2019-12-25T15:43:01.798Z',\n",
       "   'updatedAt': '2019-12-25T15:43:49.745Z'}],\n",
       " 'postAvatar': ''}"
      ]
     },
     "execution_count": 3,
     "metadata": {},
     "output_type": "execute_result"
    }
   ],
   "source": [
    "import json\n",
    "ID = '232760457'\n",
    "url = 'https://www.dcard.tw/_api/posts/' + ID \n",
    "requ = requests.get(url)\n",
    "requ.json()"
   ]
  },
  {
   "cell_type": "markdown",
   "metadata": {},
   "source": [
    "### 轉為 DataFrame"
   ]
  },
  {
   "cell_type": "code",
   "execution_count": 4,
   "metadata": {},
   "outputs": [
    {
     "data": {
      "text/html": [
       "<div>\n",
       "<style scoped>\n",
       "    .dataframe tbody tr th:only-of-type {\n",
       "        vertical-align: middle;\n",
       "    }\n",
       "\n",
       "    .dataframe tbody tr th {\n",
       "        vertical-align: top;\n",
       "    }\n",
       "\n",
       "    .dataframe thead th {\n",
       "        text-align: right;\n",
       "    }\n",
       "</style>\n",
       "<table border=\"1\" class=\"dataframe\">\n",
       "  <thead>\n",
       "    <tr style=\"text-align: right;\">\n",
       "      <th></th>\n",
       "      <th>ID</th>\n",
       "      <th>title</th>\n",
       "      <th>content</th>\n",
       "      <th>excerpt</th>\n",
       "      <th>createdAt</th>\n",
       "      <th>updatedAt</th>\n",
       "      <th>commentCount</th>\n",
       "      <th>forumName</th>\n",
       "      <th>forumAlias</th>\n",
       "      <th>gender</th>\n",
       "      <th>likeCount</th>\n",
       "      <th>reactions</th>\n",
       "      <th>topics</th>\n",
       "    </tr>\n",
       "  </thead>\n",
       "  <tbody>\n",
       "    <tr>\n",
       "      <td>0</td>\n",
       "      <td>232760457</td>\n",
       "      <td>尋找政大失物！</td>\n",
       "      <td>有人可以幫我尋找我的失物嗎\\n我找了很久一直也找不到QaQ\\nhttps://i.imgur...</td>\n",
       "      <td>有人可以幫我尋找我的失物嗎，我找了很久一直也找不到QaQ</td>\n",
       "      <td>2019-12-25T15:43:01.798Z</td>\n",
       "      <td>2019-12-25T15:43:49.745Z</td>\n",
       "      <td>16</td>\n",
       "      <td>政治大學</td>\n",
       "      <td>nccu</td>\n",
       "      <td>M</td>\n",
       "      <td>48</td>\n",
       "      <td>[{'id': '286f599c-f86a-4932-82f0-f5a06f1eca03'...</td>\n",
       "      <td>[失物招領, 政大, 聖誕節, 脫魯, 政治大學]</td>\n",
       "    </tr>\n",
       "  </tbody>\n",
       "</table>\n",
       "</div>"
      ],
      "text/plain": [
       "          ID    title                                            content  \\\n",
       "0  232760457  尋找政大失物！  有人可以幫我尋找我的失物嗎\\n我找了很久一直也找不到QaQ\\nhttps://i.imgur...   \n",
       "\n",
       "                        excerpt                 createdAt  \\\n",
       "0  有人可以幫我尋找我的失物嗎，我找了很久一直也找不到QaQ  2019-12-25T15:43:01.798Z   \n",
       "\n",
       "                  updatedAt  commentCount forumName forumAlias gender  \\\n",
       "0  2019-12-25T15:43:49.745Z            16      政治大學       nccu      M   \n",
       "\n",
       "   likeCount                                          reactions  \\\n",
       "0         48  [{'id': '286f599c-f86a-4932-82f0-f5a06f1eca03'...   \n",
       "\n",
       "                      topics  \n",
       "0  [失物招領, 政大, 聖誕節, 脫魯, 政治大學]  "
      ]
     },
     "execution_count": 4,
     "metadata": {},
     "output_type": "execute_result"
    }
   ],
   "source": [
    "rejs = requ.json()\n",
    "pd.DataFrame(\n",
    "    data=\n",
    "    [{'ID':rejs['id'],\n",
    "      'title':rejs['title'],\n",
    "      'content':rejs['content'],\n",
    "      'excerpt':rejs['excerpt'],\n",
    "      'createdAt':rejs['createdAt'],\n",
    "      'updatedAt':rejs['updatedAt'],\n",
    "      'commentCount':rejs['commentCount'],\n",
    "      'forumName':rejs['forumName'],\n",
    "      'forumAlias':rejs['forumAlias'],\n",
    "      'gender':rejs['gender'],\n",
    "      'likeCount':rejs['likeCount'],\n",
    "      'reactions':rejs['reactions'],\n",
    "      'topics':rejs['topics']}],\n",
    "    columns=['ID','title','content','excerpt','createdAt','updatedAt','commentCount','forumName','forumAlias','gender','likeCount','reactions','topics'])"
   ]
  },
  {
   "cell_type": "code",
   "execution_count": null,
   "metadata": {},
   "outputs": [],
   "source": []
  }
 ],
 "metadata": {
  "kernelspec": {
   "display_name": "Python 3",
   "language": "python",
   "name": "python3"
  },
  "language_info": {
   "codemirror_mode": {
    "name": "ipython",
    "version": 3
   },
   "file_extension": ".py",
   "mimetype": "text/x-python",
   "name": "python",
   "nbconvert_exporter": "python",
   "pygments_lexer": "ipython3",
   "version": "3.7.1"
  }
 },
 "nbformat": 4,
 "nbformat_minor": 2
}
